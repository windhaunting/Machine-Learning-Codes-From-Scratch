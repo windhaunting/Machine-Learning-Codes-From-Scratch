{
  "nbformat": 4,
  "nbformat_minor": 0,
  "metadata": {
    "colab": {
      "name": "Simulate_Point_fit_OLS_R2_.ipynb",
      "provenance": []
    },
    "kernelspec": {
      "name": "python3",
      "display_name": "Python 3"
    },
    "language_info": {
      "name": "python"
    }
  },
  "cells": [
    {
      "cell_type": "code",
      "metadata": {
        "id": "zDXCB2gsepzq"
      },
      "source": [
        "# simulate 100 points.   from this 100 points to fit an OLS regression satisfying slope=2 and r^2=0.8\n"
      ],
      "execution_count": null,
      "outputs": []
    },
    {
      "cell_type": "markdown",
      "metadata": {
        "id": "4BPgiFBofVHu"
      },
      "source": [
        "$Y = 2x+ b+\\epsilon$\n",
        "\n",
        "=> reduce to $Y = 2x + \\epsilon$     (center around 0, the intercept does not impact)\n",
        "\n",
        "To simulate our goal is to get the \\epsilon's variance\n",
        "assume \\epsilon follows normal distribution $N(0, var(\\epsilon))$\n",
        "\n",
        "Inference:\n",
        "\n",
        "$R^2 = 1 - \\frac{\\sum_i(y_i - \\hat{y}_i)^2}{\\sum_i(y_i - \\bar{y}_i)^2}$\n",
        "\n",
        "we could simply\n",
        "\n",
        "$R^2 = 1 - \\frac{\\sum_i\\epsilon_i^2}{\\sum_i(y_i - \\bar{y}_i)^2}$\n",
        "\n",
        "=>\n",
        "\n",
        "$\\frac{\\sum_i\\epsilon_i^2}{\\sum_i(y_i - \\bar{y}_i)^2} = 1-R^2$\n",
        "\n",
        "=> $\\frac{\\frac{1}{n}*\\sum_i\\epsilon_i^2}{\\frac{1}{n}\\sum_i(y_i - \\bar{y}_i)^2} = 1-R^2$\n",
        "\n",
        "To assume  the mean of residual error is 0, \n",
        "\n",
        "=> $\\frac{var(\\epsilon)}{var(y)} = 1-R^2$\n",
        "\n",
        "So, $var(y) = \\frac{var(\\epsilon)}{1-R^2}$\n",
        "\n",
        "$var(y) = var(wx+\\epsilon) = w^2 var(x) + var(\\epsilon) + w*cov(x, \\epsilon)$\n",
        "\n",
        "Assume x and $\\epsilon$ are independent\n",
        "=> $\\frac{var(\\epsilon)}{1-R^2} = var(wx+\\epsilon) = w^2 var(x) + var(\\epsilon)$\n",
        "\n",
        "further, we have \n",
        "$var(\\epsilon) = \\frac{1-R^2}{(R^2)}* w^2*var(x)$\n",
        "\n",
        "\n",
        "Steps:\n",
        "# 1) simualte x \n",
        "x could sample from uniform distribution or normal distribution N(0, 1)  with normal distribution we then do not to calculate var(x)\n",
        "\n",
        "\n",
        "# 2) calculate $\\epsilon$ with the two assumptions before and the formula\n",
        "\n",
        "# 3) simulate $\\epsilon$ ~ $N(0, var(\\epsilon))$\n",
        "# 4) get the $Y = wx + \\epsilon$\n",
        "\n",
        "# 5) Use the linear regression to fit and calculate the R^2 to verify"
      ]
    },
    {
      "cell_type": "code",
      "metadata": {
        "id": "wJ65ENykfQV6",
        "colab": {
          "base_uri": "https://localhost:8080/"
        },
        "outputId": "f2d914e9-ae39-4faa-8b57-cac93fff4a50"
      },
      "source": [
        "\n",
        "\n",
        "# code \n",
        "import numpy as np\n",
        "from sklearn.linear_model import LinearRegression\n",
        "from sklearn.metrics import r2_score\n",
        "\n",
        "R2 = 0.8\n",
        "w = 2\n",
        "n = 100\n",
        "x = np.random.normal(0, 1, n)\n",
        "var_x = 1\n",
        "# get epsilon variance\n",
        "# 𝑣𝑎𝑟(𝜖)=(1−𝑅2)/𝑅2∗𝑤2∗𝑣𝑎𝑟(𝑥) \n",
        "var_error = (1-R2)/R2*(w**2)*var_x\n",
        "x = x.reshape(n, -1)\n",
        "y = w*x + var_error\n",
        "\n",
        "print('y: ', x.shape, y.shape)\n",
        "\n",
        "lm = LinearRegression().fit(x,y)\n",
        "print(lm.coef_)\n",
        "print(lm.score(x,w*x))"
      ],
      "execution_count": 15,
      "outputs": [
        {
          "output_type": "stream",
          "name": "stdout",
          "text": [
            "y:  (100, 1) (100, 1)\n",
            "[[2.]]\n",
            "0.7980151347276971\n"
          ]
        }
      ]
    }
  ]
}