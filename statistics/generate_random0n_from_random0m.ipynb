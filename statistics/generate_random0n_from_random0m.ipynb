{
  "nbformat": 4,
  "nbformat_minor": 0,
  "metadata": {
    "colab": {
      "name": "generate_random0n_from_random0m.ipynb",
      "provenance": []
    },
    "kernelspec": {
      "name": "python3",
      "display_name": "Python 3"
    },
    "language_info": {
      "name": "python"
    }
  },
  "cells": [
    {
      "cell_type": "code",
      "metadata": {
        "id": "2IvSLHY3EkV8"
      },
      "source": [
        "# given random01() of uniform probability --> returning 0,1,\n",
        "#  write a random06() to return integer 0-6 with uniform probability.  \n"
      ],
      "execution_count": 27,
      "outputs": []
    },
    {
      "cell_type": "markdown",
      "metadata": {
        "id": "3PDuJ8JCFCU7"
      },
      "source": [
        "## reference: https://www.geeksforgeeks.org/implement-random-0-6-generator-using-the-given-random-0-1-generator/\n",
        "\n"
      ]
    },
    {
      "cell_type": "markdown",
      "metadata": {
        "id": "i2vgX-3RTBId"
      },
      "source": [
        "##  this idea can be extended, if there is some other random generator, say random0mGenerator() and there is need to generate number between 0 to n, where n>m.\n",
        "#  In this case, modify below function to incorporate m and n.\n",
        "\n",
        "## or Use rejection sampling\n",
        "\n",
        "https://stackoverflow.com/questions/56169049/given-a-random-int-generator-0-5-generate-0-7\n",
        "\n",
        "0 1 2 3 4 5\n",
        "\n",
        "6 7 0 1 2 3\n",
        "\n",
        "4 5 6 7 0 1\n",
        "\n",
        "2 3 4 5 6 7\n",
        "\n",
        "0 1 2 3 4 5\n",
        "\n",
        "6 7 x x x x\n",
        "\n",
        "(5*i + j+1) % 7"
      ]
    },
    {
      "cell_type": "code",
      "metadata": {
        "colab": {
          "base_uri": "https://localhost:8080/"
        },
        "id": "Y8lcPF-dQ2yA",
        "outputId": "5b472239-5fb1-4093-ab6d-ab2c07e4505d"
      },
      "source": [
        "# code --\n",
        "m = 1\n",
        "n = 6\n",
        "import random as rand\n",
        "def random01():\n",
        "  return rand.randint(0, 1)\n",
        "\n",
        "def random06():\n",
        "  # implement it by calling random01 only\n",
        "\n",
        "  val = 8\n",
        "  while(val >= 7):\n",
        "    val = 0\n",
        "    for i in range(0, 3):\n",
        "      r = random01()\n",
        "      val += 2**i*r\n",
        "      #print(\"val: \", val)\n",
        "  return val\n",
        "\n",
        "\n",
        "def test_func(N):\n",
        "  ans = [0]*7 \n",
        "  for i in range(N):\n",
        "    val = random06()\n",
        "    ans[val] += 1\n",
        "\n",
        "  print(\"ans: \", ans, [e/N for e in ans])\n",
        "\n",
        "\n",
        "test_func(10000)\n",
        "  \n"
      ],
      "execution_count": 28,
      "outputs": [
        {
          "output_type": "stream",
          "name": "stdout",
          "text": [
            "ans:  [1460, 1391, 1328, 1456, 1478, 1438, 1449] [0.146, 0.1391, 0.1328, 0.1456, 0.1478, 0.1438, 0.1449]\n"
          ]
        }
      ]
    }
  ]
}