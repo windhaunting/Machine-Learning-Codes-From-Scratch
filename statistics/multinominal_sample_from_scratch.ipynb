{
  "nbformat": 4,
  "nbformat_minor": 0,
  "metadata": {
    "colab": {
      "name": "multinominal_sample_from_scratch.ipynb",
      "provenance": [],
      "collapsed_sections": []
    },
    "kernelspec": {
      "name": "python3",
      "display_name": "Python 3"
    },
    "language_info": {
      "name": "python"
    }
  },
  "cells": [
    {
      "cell_type": "code",
      "metadata": {
        "id": "kSqqbMvjaMCs"
      },
      "source": [
        "\n",
        "# Create a functin to Sample from multinomial distribution\n",
        "# the idea is used in LC 528. Random Pick with Weight\n"
      ],
      "execution_count": null,
      "outputs": []
    },
    {
      "cell_type": "markdown",
      "metadata": {
        "id": "BKdruAyGcfK7"
      },
      "source": [
        "## It is implemented in numpy\n",
        "\n",
        "** numpy.random.multinomial**\n",
        "\n",
        "random.multinomial(n, pvals, size=None)\n",
        "\n",
        "Draw samples from a multinomial distribution.\n",
        "\n",
        "The multinomial distribution is a multivariate generalization of the binomial distribution. Take an experiment with one of p possible outcomes. An example of such an experiment is throwing a dice, where the outcome can be 1 through 6. Each sample drawn from the distribution represents n such experiments. Its values, X_i = [X_0, X_1, ..., X_p], represent the number of times the outcome was i.\n",
        "\n",
        "\n",
        "**Here I implemented a naive method from scratch**"
      ]
    },
    {
      "cell_type": "markdown",
      "metadata": {
        "id": "7vEzUijhhfhJ"
      },
      "source": [
        " # https://stackoverflow.com/questions/59696759/how-to-sample-from-a-multinomial-distribution"
      ]
    },
    {
      "cell_type": "code",
      "metadata": {
        "id": "F5lt5BAEcj_n"
      },
      "source": [
        "import random as rand\n"
      ],
      "execution_count": null,
      "outputs": []
    },
    {
      "cell_type": "code",
      "metadata": {
        "id": "bGyncQ1esjoX"
      },
      "source": [
        "# uniform [0, 1]\n",
        "\n",
        "def binary_search_smallest_index_bigger(arr, query):\n",
        "  # search the smallest index of element that smaller than query\n",
        "  l = 0\n",
        "  r = len(arr) - 1\n",
        "\n",
        "  while(l <= r):\n",
        "    mid = l + (r - l)//2\n",
        "    if arr[mid] == query:\n",
        "      return mid\n",
        "    elif arr[mid] < query:\n",
        "      l = mid+1\n",
        "    else:\n",
        "      r = mid-1\n",
        "  return r + 1\n",
        "\n",
        "\n",
        "def sample_multinomial(k_probs, N):\n",
        "  # k categories; N experiments\n",
        "\n",
        "  num = len(k_probs)\n",
        "  out_num = [0] * num\n",
        "  # get accumulated prob\n",
        "  assert(len(k_probs) > 0)\n",
        "\n",
        "  acc_k_probs = [0]* num \n",
        "  acc_k_probs[0] = k_probs[0]\n",
        "  for i in range(1, len(k_probs)):\n",
        "    acc_k_probs[i] = acc_k_probs[i-1] + k_probs[i]\n",
        "  #print(\"acc_k_probs: \", acc_k_probs)\n",
        "\n",
        "  # sample N times\n",
        "\n",
        "  for i in range(0, N):\n",
        "    rand_num = rand.random()\n",
        "    # use linear or binary search; here use binary search\n",
        "    indx = binary_search_smallest_index_bigger(acc_k_probs, rand_num)\n",
        "\n",
        "    #print(\"indx: \", rand_num, indx)\n",
        "    out_num[indx] += 1\n",
        "  return out_num"
      ],
      "execution_count": null,
      "outputs": []
    },
    {
      "cell_type": "code",
      "metadata": {
        "id": "VCCFY54edij3",
        "colab": {
          "base_uri": "https://localhost:8080/"
        },
        "outputId": "aa634b01-53b5-42ea-a70d-339caa6b9ecc"
      },
      "source": [
        "\n",
        "def test_case1():\n",
        "\n",
        "  k_probs = [0.1, 0.6, 0.2, 0.1]\n",
        "  N = 1000000\n",
        "  out_num = sample_multinomial(k_probs, N)\n",
        "  print(\"out_num: \", out_num)\n",
        "\n",
        "test_case1()"
      ],
      "execution_count": null,
      "outputs": [
        {
          "output_type": "stream",
          "name": "stdout",
          "text": [
            "out_num:  [99851, 600747, 199340, 100062]\n"
          ]
        }
      ]
    }
  ]
}