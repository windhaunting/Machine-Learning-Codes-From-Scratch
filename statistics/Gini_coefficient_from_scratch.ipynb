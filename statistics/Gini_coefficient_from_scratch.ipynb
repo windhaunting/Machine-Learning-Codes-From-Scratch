{
  "nbformat": 4,
  "nbformat_minor": 0,
  "metadata": {
    "colab": {
      "name": "Gini_coefficient_from_scratch.ipynb",
      "provenance": []
    },
    "kernelspec": {
      "name": "python3",
      "display_name": "Python 3"
    },
    "language_info": {
      "name": "python"
    }
  },
  "cells": [
    {
      "cell_type": "code",
      "metadata": {
        "id": "DKPoQqF9RDHu"
      },
      "source": [
        "## Gini coefficient"
      ],
      "execution_count": null,
      "outputs": []
    },
    {
      "cell_type": "markdown",
      "metadata": {
        "id": "U0gqOBBiROo1"
      },
      "source": [
        "## Gini coefficient\n",
        "\n",
        "# reference:\n",
        "# https://stackoverflow.com/questions/39512260/calculating-gini-coefficient-in-python-numpy\n",
        "\n",
        "# https://www.statsdirect.com/help/default.htm#nonparametric_methods/gini.htm"
      ]
    },
    {
      "cell_type": "code",
      "metadata": {
        "id": "zMjDq2lrR3De"
      },
      "source": [
        "import numpy as np\n",
        "import matplotlib.pyplot as plt"
      ],
      "execution_count": 8,
      "outputs": []
    },
    {
      "cell_type": "code",
      "metadata": {
        "colab": {
          "base_uri": "https://localhost:8080/",
          "height": 488
        },
        "id": "_1hqnMRtRR9w",
        "outputId": "1f75060e-0d55-4fc4-ed74-5981ef08f5f6"
      },
      "source": [
        "# Method 1: approximate the curve of Lorenzo with integral\n",
        "# use numpy to estimate the area B of Lorenzo combining with x axis\n",
        "# A/A+B = 2A or 1-2B\n",
        "\n",
        "def Gini1(v):\n",
        "    bins = np.linspace(0., 99., 10)\n",
        "    print(\"bins: \", bins)\n",
        "    total = float(np.sum(v))\n",
        "    lorenz_y = []\n",
        "    # accumulate prob to estimate lorenz y value\n",
        "    for b in bins:\n",
        "        bin_vals = v[v <= np.percentile(v, b)]\n",
        "        bin_fraction = (np.sum(bin_vals) / total) * 100.0\n",
        "        lorenz_y.append(bin_fraction)\n",
        "    print(\"lorenz_y: \", lorenz_y)\n",
        "    # perfect equality area\n",
        "    pe_area = 100*100*0.5 # np.trapz(bins, x=bins)\n",
        "    print(\"pe_area: \", pe_area)\n",
        "    # lorenz area\n",
        "    lorenz_area = np.trapz(lorenz_y, x=bins)      # np.trapz is to get the integral\n",
        "    gini_val = (pe_area - lorenz_area) / float(pe_area)\n",
        "    return bins, lorenz_y, gini_val\n",
        "\n",
        "v = np.random.rand(500)\n",
        "bins, lorenz_y, gini_val = Gini1(v)\n",
        "plt.figure()\n",
        "plt.subplot(2, 1, 1)\n",
        "plt.plot(bins, lorenz_y, label=\"Observed\")\n",
        "plt.plot(bins, bins, '--', label=\"Perfect eq.\")\n",
        "plt.xlabel(\"Fraction of population\")\n",
        "plt.ylabel(\"Fraction of income\")\n",
        "plt.title(\"GINI: %.4f\" %(gini_val))\n",
        "plt.legend()\n",
        "plt.subplot(2, 1, 2)\n",
        "plt.hist(v, bins=20)"
      ],
      "execution_count": 34,
      "outputs": [
        {
          "output_type": "stream",
          "name": "stdout",
          "text": [
            "bins:  [ 0. 11. 22. 33. 44. 55. 66. 77. 88. 99.]\n",
            "lorenz_y:  [0.0007202786011575753, 1.4585380227769738, 5.315090797104649, 11.615434761348592, 20.419130856515405, 31.589219562657927, 44.78599389643988, 60.204505868511035, 77.77405045883073, 98.02715238512893]\n",
            "pe_area:  5000.0\n"
          ]
        },
        {
          "output_type": "execute_result",
          "data": {
            "text/plain": [
              "(array([18., 27., 26., 25., 24., 22., 28., 18., 27., 25., 33., 31., 24.,\n",
              "        28., 24., 32., 24., 22., 19., 23.]),\n",
              " array([0.00180675, 0.05165473, 0.1015027 , 0.15135067, 0.20119865,\n",
              "        0.25104662, 0.3008946 , 0.35074257, 0.40059055, 0.45043852,\n",
              "        0.5002865 , 0.55013447, 0.59998245, 0.64983042, 0.6996784 ,\n",
              "        0.74952637, 0.79937434, 0.84922232, 0.89907029, 0.94891827,\n",
              "        0.99876624]),\n",
              " <a list of 20 Patch objects>)"
            ]
          },
          "metadata": {},
          "execution_count": 34
        },
        {
          "output_type": "display_data",
          "data": {
            "image/png": "[encoded data removed]",
            "text/plain": [
              "<Figure size 432x288 with 2 Axes>"
            ]
          },
          "metadata": {
            "needs_background": "light"
          }
        }
      ]
    },
    {
      "cell_type": "code",
      "metadata": {
        "colab": {
          "base_uri": "https://localhost:8080/",
          "height": 451
        },
        "id": "0mo7e-UyW9EZ",
        "outputId": "c7d4522b-5202-46dd-e811-e79ee5c443cc"
      },
      "source": [
        "# Method 2: use the formula to calculate directly\n",
        "# reference: https://github.com/oliviaguest/gini\n",
        "# make sure it's sorted\n",
        "\n",
        "def Gini2(arr):\n",
        "\n",
        "    arr = arr.flatten()\n",
        "    if np.amin(arr) < 0:\n",
        "      # Values cannot be negative:\n",
        "      arr -= np.amin(arr)\n",
        "\n",
        "    # Values cannot be 0:\n",
        "    arr += 0.0000001\n",
        "\n",
        "    # Values must be sorted:\n",
        "    arr = np.sort(arr)\n",
        "\n",
        "    # Index per array element:\n",
        "    index = np.arange(1,arr.shape[0]+1)\n",
        "    # Number of array elements:\n",
        "    n = arr.shape[0]\n",
        "    # Gini coefficient:\n",
        "    return ((np.sum((2 * index - n  - 1) * arr)) / (n * np.sum(arr)))\n",
        "\n",
        "\n",
        "v = np.random.rand(500)\n",
        "bins = np.linspace(0., 99., 10)\n",
        "print(\"bins: \", bins)\n",
        "total = float(np.sum(v))\n",
        "lorenz_y = []\n",
        "# accumulate prob to estimate lorenz y value\n",
        "for b in bins:\n",
        "  bin_vals = v[v <= np.percentile(v, b)]\n",
        "  bin_fraction = (np.sum(bin_vals) / total) * 100.0\n",
        "  lorenz_y.append(bin_fraction)\n",
        "\n",
        "gini_val = Gini2(v)\n",
        "print(\"Gini coefficient:\", gini_val)\n",
        "plt.figure()\n",
        "plt.subplot(2, 1, 1)\n",
        "plt.plot(bins, lorenz_y, label=\"Observed\")\n",
        "plt.plot(bins, bins, '--', label=\"Perfect eq.\")\n",
        "plt.xlabel(\"Fraction of population\")\n",
        "plt.ylabel(\"Fraction of income\")\n",
        "plt.title(\"GINI: %.4f\" %(gini_val))\n",
        "plt.legend()\n",
        "plt.subplot(2, 1, 2)\n",
        "plt.hist(v, bins=20)\n"
      ],
      "execution_count": 39,
      "outputs": [
        {
          "output_type": "stream",
          "name": "stdout",
          "text": [
            "bins:  [ 0. 11. 22. 33. 44. 55. 66. 77. 88. 99.]\n",
            "Gini coefficient: 0.32977110975562607\n"
          ]
        },
        {
          "output_type": "execute_result",
          "data": {
            "text/plain": [
              "(array([23., 22., 27., 22., 28., 32., 29., 24., 14., 34., 22., 26., 20.,\n",
              "        23., 24., 27., 20., 36., 26., 21.]),\n",
              " array([0.00287968, 0.05257706, 0.10227443, 0.15197181, 0.20166919,\n",
              "        0.25136657, 0.30106395, 0.35076133, 0.40045871, 0.45015609,\n",
              "        0.49985347, 0.54955084, 0.59924822, 0.6489456 , 0.69864298,\n",
              "        0.74834036, 0.79803774, 0.84773512, 0.8974325 , 0.94712987,\n",
              "        0.99682725]),\n",
              " <a list of 20 Patch objects>)"
            ]
          },
          "metadata": {},
          "execution_count": 39
        },
        {
          "output_type": "display_data",
          "data": {
            "image/png": "[encoded data removed]",
            "text/plain": [
              "<Figure size 432x288 with 2 Axes>"
            ]
          },
          "metadata": {
            "needs_background": "light"
          }
        }
      ]
    }
  ]
}