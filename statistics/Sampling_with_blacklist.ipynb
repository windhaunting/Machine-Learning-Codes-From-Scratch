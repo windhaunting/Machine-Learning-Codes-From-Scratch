{
  "nbformat": 4,
  "nbformat_minor": 0,
  "metadata": {
    "colab": {
      "name": "Sampling_with_blacklist.ipynb",
      "provenance": []
    },
    "kernelspec": {
      "name": "python3",
      "display_name": "Python 3"
    },
    "language_info": {
      "name": "python"
    }
  },
  "cells": [
    {
      "cell_type": "code",
      "metadata": {
        "id": "nVLR58jW_Fp5"
      },
      "source": [
        "# leetcode \n",
        "# sampling\n",
        "\n",
        "# rejection sampling\n",
        "\n"
      ],
      "execution_count": null,
      "outputs": []
    },
    {
      "cell_type": "code",
      "metadata": {
        "id": "am7SaLAh_Mnv"
      },
      "source": [
        "from collections import defaultdict\n",
        "from random import random\n",
        "\n",
        "class Solution(object):\n",
        "\n",
        "    def __init__(self, N, blacklist):\n",
        "        \"\"\"\n",
        "        :type N: int\n",
        "        :type blacklist: List[int]\n",
        "        \"\"\"\n",
        "        self.N = N\n",
        "        blacklist = blacklist\n",
        "\n",
        "        self.M = len(blacklist)\n",
        "        \n",
        "        up_indx = self.N - self.M \n",
        "        upper_set = set(range(up_indx, self.N))\n",
        "        \n",
        "        upper_diff_list = list(upper_set - set(blacklist))\n",
        "        \n",
        "        \n",
        "        # get the map\n",
        "        self.hash_map = defaultdict(int)\n",
        "        i = 0\n",
        "        for e in blacklist:\n",
        "            if e < up_indx:\n",
        "                self.hash_map[e] = upper_diff_list[i]\n",
        "                i += 1\n",
        "        \n",
        "        # print (\"hash_map: \", hash_map)\n",
        "        \n",
        "        \n",
        "    def pick(self):\n",
        "        \"\"\"\n",
        "        :rtype: int\n",
        "        \"\"\"\n",
        "        # 1st naive, random genearte a number and then check it is in blacklist or not, \n",
        "        # if it is, we regenerate again\n",
        "        \n",
        "        # 2nd put in the white list, N - blacklist,  ranomly select from white list, but needs to put white list in\n",
        "        # the memory. if the white list is large, then loading memory\n",
        "        \n",
        "\n",
        "        # https://www.cnblogs.com/grandyang/p/10029772.html\n",
        "        # https://zhanghuimeng.github.io/post/leetcode-710-random-pick-with-blacklist/\n",
        "        \n",
        "        # 3rd use hashamp  , blacklist has M elemnet,  find white list N-M element,\n",
        "        # in [0, N-M] element, map element in blacklist to other  [N-M, N)\n",
        "\n",
        "        # figure out the element in [N-M, N] but not in blacklist,  we use set difference\n",
        "        \n",
        "        # get a random\n",
        "        num = randint(0, self.N-self.M-1) \n",
        "        if num in self.hash_map:\n",
        "            return self.hash_map[num]\n",
        "        return num\n"
      ],
      "execution_count": null,
      "outputs": []
    }
  ]
}