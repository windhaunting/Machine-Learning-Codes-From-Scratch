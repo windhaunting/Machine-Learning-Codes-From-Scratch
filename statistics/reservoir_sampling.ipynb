{
  "nbformat": 4,
  "nbformat_minor": 0,
  "metadata": {
    "colab": {
      "name": "reservoir sampling.ipynb",
      "provenance": []
    },
    "kernelspec": {
      "name": "python3",
      "display_name": "Python 3"
    },
    "language_info": {
      "name": "python"
    }
  },
  "cells": [
    {
      "cell_type": "code",
      "metadata": {
        "id": "F0t_-nv6Jylu"
      },
      "source": [
        "#You are given a m*n grid. You are asked to generate k mines on this grid randomly. \n",
        "# Each cell should have equal probability of k / m*n of being chosen.\n"
      ],
      "execution_count": null,
      "outputs": []
    },
    {
      "cell_type": "markdown",
      "metadata": {
        "id": "119wsQ2mJ8fP"
      },
      "source": [
        "## 1st idea\n",
        "get an array [0,1,2,..., m*n-1]\n",
        "\n",
        "iterate until k steps:\n",
        "  randomly generated a postion pos from the array\n",
        "  get the row pos//n\n",
        "  get the col pos//n\n",
        "  then delete the pos from the array\n",
        "\n",
        "  next randomly generate the array again\n"
      ]
    },
    {
      "cell_type": "markdown",
      "metadata": {
        "id": "KgMsd-IYKbSJ"
      },
      "source": [
        "#2nd idea:\n",
        "\n",
        "## use reservoir sampling\n",
        "\n",
        "\n",
        "assign an element ID to each grid square 0 to m*n-1.\n",
        "\n",
        "1) put 0 to k-1 IDs added to the reservoir of k elements.\n",
        "2), iterate through the rest of the elements (k+1,.., m*n-1) with ID i in[k+1,..., m*n-1]\n",
        "\n",
        "  -- generate a random number r between 0 and the element ID in the iteration.\n",
        "       If the random number r is between 0 and k-1, replace the rth value in the reservoir with the new element ID.\n",
        "3) Finally, the reservoir list will have the element IDs of the grid which need to be mined. So convert these back to the grid indices."
      ]
    },
    {
      "cell_type": "code",
      "metadata": {
        "colab": {
          "base_uri": "https://localhost:8080/"
        },
        "id": "0zzjKvuoJ2NA",
        "outputId": "16486db3-d460-4318-f259-2ec9073f5e2d"
      },
      "source": [
        "import random\n",
        "\n",
        "def place_mines(M, N, K):\n",
        "\n",
        "  out_arr = [[0] * N for _ in range(M)]\n",
        "\n",
        "  pool = list(range(0, K))\n",
        "\n",
        "  j = K\n",
        "  while (j < M * N):\n",
        "    id = random.randint(0, j)\n",
        "    if 0 <= id < K:\n",
        "      # replace \n",
        "      pool[id] = j\n",
        "    j += 1\n",
        "  \n",
        "  for pos in pool:\n",
        "\n",
        "    out_arr[pos//N][pos%N] = -1\n",
        "  \n",
        "  print ('out_arr: ', out_arr)\n",
        "\n",
        "  return out_arr\n",
        "\n",
        "M = 5\n",
        "N = 5\n",
        "K = 10\n",
        "out_arr = place_mines(M, N, K)"
      ],
      "execution_count": 10,
      "outputs": [
        {
          "output_type": "stream",
          "name": "stdout",
          "text": [
            "out_arr:  [[0, -1, 0, 0, -1], [-1, 0, -1, 0, 0], [0, 0, 0, -1, -1], [-1, 0, 0, -1, -1], [-1, 0, 0, 0, 0]]\n"
          ]
        }
      ]
    }
  ]
}