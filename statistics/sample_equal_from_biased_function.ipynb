{
  "nbformat": 4,
  "nbformat_minor": 0,
  "metadata": {
    "colab": {
      "name": "sample_equal_from_biased_function.ipynb",
      "provenance": []
    },
    "kernelspec": {
      "name": "python3",
      "display_name": "Python 3"
    },
    "language_info": {
      "name": "python"
    }
  },
  "cells": [
    {
      "cell_type": "code",
      "metadata": {
        "id": "10Dze23_n1Q5"
      },
      "source": [
        "#Given a function that returns tails / heads with a different probability (p and 1-p), \n",
        "# write a function that returns tails / heads with equal probability (1/2).\n",
        "\n"
      ],
      "execution_count": 13,
      "outputs": []
    },
    {
      "cell_type": "markdown",
      "metadata": {
        "id": "opw1uwCroOpy"
      },
      "source": [
        "# reference: https://www.techiedelight.com/generate-fair-results-biased-coin/\n",
        "\n",
        "call twice \n",
        "head, tail => (1-p) * p\n",
        "tail, head => p * (1-p)\n",
        "\n",
        "They have equal probablity"
      ]
    },
    {
      "cell_type": "code",
      "metadata": {
        "colab": {
          "base_uri": "https://localhost:8080/"
        },
        "id": "T3fJ6yKnoCQt",
        "outputId": "959990ce-0f58-456d-f804-69826662f132"
      },
      "source": [
        "\n",
        "import random as rand\n",
        "\n",
        "TAIL = False\n",
        "HEAD = True\n",
        "\n",
        "def bias_func():\n",
        "  # simulate biased function. 80% tail, 20% head\n",
        "  num = rand.randint(0, 99)\n",
        "  if num < 80:  # \n",
        "    return False # return tail\n",
        "  else:\n",
        "    return True\n",
        "  \n",
        "def get_coins():\n",
        "\n",
        "    while(True):       # keep flip the coin until two flips have different results\n",
        "      first = bias_func()\n",
        "      second = bias_func()\n",
        "      if first != second:\n",
        "        return first     # or second\n",
        "\n",
        "# test\n",
        "def test_func(N):\n",
        "  ans = [0] * 2\n",
        "  for i in range(0, N):\n",
        "    if get_coins():\n",
        "      ans[0] += 1\n",
        "    else:\n",
        "      ans[1] += 1\n",
        "  print(\"ans : \", ans, ans[0]/N, ans[1]/N)\n",
        "\n",
        "test_func(10000)\n",
        "    \n",
        "\n",
        "\n"
      ],
      "execution_count": 14,
      "outputs": [
        {
          "output_type": "stream",
          "name": "stdout",
          "text": [
            "ans :  [5000, 5000] 0.5 0.5\n"
          ]
        }
      ]
    }
  ]
}