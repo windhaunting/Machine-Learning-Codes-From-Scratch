{
  "nbformat": 4,
  "nbformat_minor": 0,
  "metadata": {
    "colab": {
      "name": "data_interview_1.ipynb",
      "provenance": []
    },
    "kernelspec": {
      "name": "python3",
      "display_name": "Python 3"
    },
    "language_info": {
      "name": "python"
    }
  },
  "cells": [
    {
      "cell_type": "code",
      "metadata": {
        "id": "nt8L3t6beeHo"
      },
      "source": [
        "\n",
        "#items. e.g. banana\n",
        "#list of list\n",
        "\n",
        "items = [['01/01/2021', 3], ['01/05/2021', 4],['01/02/2021', 2], ['01/03/2021', 8]]\n"
      ],
      "execution_count": 11,
      "outputs": []
    },
    {
      "cell_type": "code",
      "metadata": {
        "id": "hSu4m02YfoGt",
        "colab": {
          "base_uri": "https://localhost:8080/"
        },
        "outputId": "01c5ddb8-1b9b-419b-e06c-0adcab581d3e"
      },
      "source": [
        "# sort by the day\n",
        "items = sorted(items, key = lambda ele: ele[0])  # ascending order\n",
        "items"
      ],
      "execution_count": 12,
      "outputs": [
        {
          "output_type": "execute_result",
          "data": {
            "text/plain": [
              "[['01/01/2021', 3], ['01/02/2021', 2], ['01/03/2021', 8], ['01/05/2021', 4]]"
            ]
          },
          "metadata": {},
          "execution_count": 12
        }
      ]
    },
    {
      "cell_type": "code",
      "metadata": {
        "id": "f3OkiFQ5gabR"
      },
      "source": [
        "#price None\n",
        "# replace None with previous day's price\n",
        "n = len(items)\n",
        "\n",
        "for i in range(1, n):\n",
        "  if items[i][1] is None: \n",
        "    items[i][1] = items[i-1][1]\n"
      ],
      "execution_count": 13,
      "outputs": []
    },
    {
      "cell_type": "code",
      "metadata": {
        "id": "CS5vSRpVios5",
        "colab": {
          "base_uri": "https://localhost:8080/"
        },
        "outputId": "7d271a0e-0dcf-483b-bd01-0d4cd199f0a6"
      },
      "source": [
        "# moving average price of past 3 days\n",
        "\n",
        "# pre sum\n",
        "presum = [0]*(n+1)      # [0, 1, 3, 6, 10, 15, 21]\n",
        "# [1,2,3,4,5,6]\n",
        "for i in range(1, n+1):\n",
        "  presum[i] = presum[i-1] + items[i-1][1]     #i = 6; presum[i-1] = 15,  6, presum[i] = 21;\n",
        "\n",
        "#n= 6,  [1,2,3,4,5,6]\n",
        "\n",
        "#presum = [0,1,3,6,10,15,21]\n",
        "\n",
        "#average = [2, 3, 4, 5,]\n",
        "# moving average\n",
        "mv_average_price = []\n",
        "for i in range(3, n+1):  # i=6,   presum[i] = 21, presum[i-3] = 6;    15/3\n",
        "  mv_average_price.append((presum[i] - presum[i-3])/3)\n",
        "\n",
        "mv_average_price"
      ],
      "execution_count": 14,
      "outputs": [
        {
          "output_type": "execute_result",
          "data": {
            "text/plain": [
              "[4.333333333333333, 4.666666666666667]"
            ]
          },
          "metadata": {},
          "execution_count": 14
        }
      ]
    }
  ]
}