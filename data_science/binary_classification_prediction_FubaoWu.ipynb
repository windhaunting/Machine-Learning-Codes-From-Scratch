{
  "nbformat": 4,
  "nbformat_minor": 0,
  "metadata": {
    "colab": {
      "name": "binary_predict_FubaoWu.ipynb",
      "provenance": [],
      "collapsed_sections": []
    },
    "kernelspec": {
      "name": "python3",
      "display_name": "Python 3"
    },
    "language_info": {
      "name": "python"
    }
  },
  "cells": [
    {
      "cell_type": "markdown",
      "metadata": {
        "id": "iT-TdN0IJBzH"
      },
      "source": [
        "### Task:  develop models to support marketing campaigns for high yield term certificate of deposit (CD) products. \n",
        "**Data**: simulated data for multiple sales campaigns conducted by a hypothetical banking institution ABC. The campaigns were conducted over the phone to offer high yield term CD products to existing clients. Often, more than one contact with the same customer was necessary to assess whether the client would open a CD account. Each record represents a unique customer.  \n",
        "\n",
        "**Output**: predict client has subscribed a CD account or not (binary: yes, no)"
      ]
    },
    {
      "cell_type": "code",
      "metadata": {
        "id": "4GA-zH2pJANw"
      },
      "source": [
        "# library\n",
        "import os\n",
        "import numpy as np\n",
        "import pandas as pd\n",
        "import seaborn as sns \n",
        "import matplotlib.pyplot as plt\n",
        "from scipy.stats import sem\n",
        "from sklearn.preprocessing import OneHotEncoder, LabelEncoder, StandardScaler, MinMaxScaler\n",
        "from sklearn.impute import SimpleImputer\n",
        "from imblearn.over_sampling import SMOTE\n",
        "from imblearn.under_sampling import RandomUnderSampler\n",
        "from sklearn.linear_model import LogisticRegression\n",
        "from sklearn.ensemble import RandomForestClassifier\n",
        "from sklearn.feature_selection import SelectKBest, chi2\n",
        "from sklearn.model_selection import RepeatedKFold\n",
        "from sklearn.model_selection import cross_val_score\n",
        "from sklearn.model_selection import GridSearchCV\n",
        "from sklearn.metrics import classification_report, confusion_matrix \n",
        "\n",
        "\n",
        "\n"
      ],
      "execution_count": null,
      "outputs": []
    },
    {
      "cell_type": "markdown",
      "metadata": {
        "id": "65J8VVAvy9Wl"
      },
      "source": [
        "### Read files"
      ]
    },
    {
      "cell_type": "code",
      "metadata": {
        "id": "yW2FHr9kJi_R"
      },
      "source": [
        "file_dir = \"/content/\"\n",
        "\n",
        "train_csv = file_dir + \"train.csv\"\n",
        "test_csv = file_dir + \"test.csv\"\n"
      ],
      "execution_count": null,
      "outputs": []
    },
    {
      "cell_type": "code",
      "metadata": {
        "id": "8rLbydt9y6iX"
      },
      "source": [
        "# read train data\n",
        "df_train = pd.read_csv(train_csv, index_col=None)"
      ],
      "execution_count": null,
      "outputs": []
    },
    {
      "cell_type": "markdown",
      "metadata": {
        "id": "7b_YxC0sz5rA"
      },
      "source": [
        "# Exploratory Data Analysis"
      ]
    },
    {
      "cell_type": "code",
      "metadata": {
        "colab": {
          "base_uri": "https://localhost:8080/"
        },
        "id": "nD5D5lhNz-IR",
        "outputId": "ef4552a4-6c02-49d7-e00e-a269bb65fee3"
      },
      "source": [
        "print(\"Total number of rows in training data \", df_train.shape[0])\n",
        "print(\"Total number of columns in training data \", df_train.shape[1])\n",
        "\n",
        "print('df type: ', df_train.dtypes)"
      ],
      "execution_count": null,
      "outputs": [
        {
          "output_type": "stream",
          "name": "stdout",
          "text": [
            "Total number of rows in training data  30000\n",
            "Total number of columns in training data  17\n",
            "df type:  age          float64\n",
            "job           object\n",
            "marital       object\n",
            "education     object\n",
            "default       object\n",
            "balance        int64\n",
            "housing       object\n",
            "loan          object\n",
            "contact       object\n",
            "day            int64\n",
            "month         object\n",
            "duration       int64\n",
            "campaign       int64\n",
            "pdays        float64\n",
            "previous       int64\n",
            "poutcome      object\n",
            "y             object\n",
            "dtype: object\n"
          ]
        }
      ]
    },
    {
      "cell_type": "code",
      "metadata": {
        "colab": {
          "base_uri": "https://localhost:8080/",
          "height": 205
        },
        "id": "ryKatHi50tr0",
        "outputId": "1acf086b-05e7-468d-d561-d4c8b50ed546"
      },
      "source": [
        "df_train.head(5)"
      ],
      "execution_count": null,
      "outputs": [
        {
          "output_type": "execute_result",
          "data": {
            "text/html": [
              "<div>\n",
              "<style scoped>\n",
              "    .dataframe tbody tr th:only-of-type {\n",
              "        vertical-align: middle;\n",
              "    }\n",
              "\n",
              "    .dataframe tbody tr th {\n",
              "        vertical-align: top;\n",
              "    }\n",
              "\n",
              "    .dataframe thead th {\n",
              "        text-align: right;\n",
              "    }\n",
              "</style>\n",
              "<table border=\"1\" class=\"dataframe\">\n",
              "  <thead>\n",
              "    <tr style=\"text-align: right;\">\n",
              "      <th></th>\n",
              "      <th>age</th>\n",
              "      <th>job</th>\n",
              "      <th>marital</th>\n",
              "      <th>education</th>\n",
              "      <th>default</th>\n",
              "      <th>balance</th>\n",
              "      <th>housing</th>\n",
              "      <th>loan</th>\n",
              "      <th>contact</th>\n",
              "      <th>day</th>\n",
              "      <th>month</th>\n",
              "      <th>duration</th>\n",
              "      <th>campaign</th>\n",
              "      <th>pdays</th>\n",
              "      <th>previous</th>\n",
              "      <th>poutcome</th>\n",
              "      <th>y</th>\n",
              "    </tr>\n",
              "  </thead>\n",
              "  <tbody>\n",
              "    <tr>\n",
              "      <th>0</th>\n",
              "      <td>31.0</td>\n",
              "      <td>blue-collar</td>\n",
              "      <td>single</td>\n",
              "      <td>secondary</td>\n",
              "      <td>no</td>\n",
              "      <td>-806</td>\n",
              "      <td>yes</td>\n",
              "      <td>yes</td>\n",
              "      <td>cellular</td>\n",
              "      <td>24</td>\n",
              "      <td>jul</td>\n",
              "      <td>205</td>\n",
              "      <td>3</td>\n",
              "      <td>NaN</td>\n",
              "      <td>0</td>\n",
              "      <td>unknown</td>\n",
              "      <td>no</td>\n",
              "    </tr>\n",
              "    <tr>\n",
              "      <th>1</th>\n",
              "      <td>58.0</td>\n",
              "      <td>technician</td>\n",
              "      <td>single</td>\n",
              "      <td>secondary</td>\n",
              "      <td>no</td>\n",
              "      <td>8600</td>\n",
              "      <td>yes</td>\n",
              "      <td>no</td>\n",
              "      <td>cellular</td>\n",
              "      <td>18</td>\n",
              "      <td>nov</td>\n",
              "      <td>61</td>\n",
              "      <td>1</td>\n",
              "      <td>NaN</td>\n",
              "      <td>0</td>\n",
              "      <td>unknown</td>\n",
              "      <td>no</td>\n",
              "    </tr>\n",
              "    <tr>\n",
              "      <th>2</th>\n",
              "      <td>50.0</td>\n",
              "      <td>admin.</td>\n",
              "      <td>married</td>\n",
              "      <td>secondary</td>\n",
              "      <td>no</td>\n",
              "      <td>512</td>\n",
              "      <td>yes</td>\n",
              "      <td>yes</td>\n",
              "      <td>cellular</td>\n",
              "      <td>17</td>\n",
              "      <td>apr</td>\n",
              "      <td>77</td>\n",
              "      <td>3</td>\n",
              "      <td>338.0</td>\n",
              "      <td>3</td>\n",
              "      <td>failure</td>\n",
              "      <td>no</td>\n",
              "    </tr>\n",
              "    <tr>\n",
              "      <th>3</th>\n",
              "      <td>59.0</td>\n",
              "      <td>retired</td>\n",
              "      <td>married</td>\n",
              "      <td>secondary</td>\n",
              "      <td>no</td>\n",
              "      <td>184</td>\n",
              "      <td>no</td>\n",
              "      <td>no</td>\n",
              "      <td>cellular</td>\n",
              "      <td>8</td>\n",
              "      <td>jul</td>\n",
              "      <td>163</td>\n",
              "      <td>1</td>\n",
              "      <td>NaN</td>\n",
              "      <td>0</td>\n",
              "      <td>unknown</td>\n",
              "      <td>no</td>\n",
              "    </tr>\n",
              "    <tr>\n",
              "      <th>4</th>\n",
              "      <td>46.0</td>\n",
              "      <td>management</td>\n",
              "      <td>married</td>\n",
              "      <td>unknown</td>\n",
              "      <td>no</td>\n",
              "      <td>876</td>\n",
              "      <td>yes</td>\n",
              "      <td>no</td>\n",
              "      <td>cellular</td>\n",
              "      <td>31</td>\n",
              "      <td>jul</td>\n",
              "      <td>11</td>\n",
              "      <td>3</td>\n",
              "      <td>NaN</td>\n",
              "      <td>0</td>\n",
              "      <td>unknown</td>\n",
              "      <td>no</td>\n",
              "    </tr>\n",
              "  </tbody>\n",
              "</table>\n",
              "</div>"
            ],
            "text/plain": [
              "    age          job  marital  education  ...  pdays  previous poutcome   y\n",
              "0  31.0  blue-collar   single  secondary  ...    NaN         0  unknown  no\n",
              "1  58.0   technician   single  secondary  ...    NaN         0  unknown  no\n",
              "2  50.0       admin.  married  secondary  ...  338.0         3  failure  no\n",
              "3  59.0      retired  married  secondary  ...    NaN         0  unknown  no\n",
              "4  46.0   management  married    unknown  ...    NaN         0  unknown  no\n",
              "\n",
              "[5 rows x 17 columns]"
            ]
          },
          "metadata": {},
          "execution_count": 514
        }
      ]
    },
    {
      "cell_type": "code",
      "metadata": {
        "colab": {
          "base_uri": "https://localhost:8080/",
          "height": 299
        },
        "id": "_4ClROzE0waQ",
        "outputId": "5bc1a782-fa8c-46b5-a685-f7a70dcbbf01"
      },
      "source": [
        "df_train.describe()\n"
      ],
      "execution_count": null,
      "outputs": [
        {
          "output_type": "execute_result",
          "data": {
            "text/html": [
              "<div>\n",
              "<style scoped>\n",
              "    .dataframe tbody tr th:only-of-type {\n",
              "        vertical-align: middle;\n",
              "    }\n",
              "\n",
              "    .dataframe tbody tr th {\n",
              "        vertical-align: top;\n",
              "    }\n",
              "\n",
              "    .dataframe thead th {\n",
              "        text-align: right;\n",
              "    }\n",
              "</style>\n",
              "<table border=\"1\" class=\"dataframe\">\n",
              "  <thead>\n",
              "    <tr style=\"text-align: right;\">\n",
              "      <th></th>\n",
              "      <th>age</th>\n",
              "      <th>balance</th>\n",
              "      <th>day</th>\n",
              "      <th>duration</th>\n",
              "      <th>campaign</th>\n",
              "      <th>pdays</th>\n",
              "      <th>previous</th>\n",
              "    </tr>\n",
              "  </thead>\n",
              "  <tbody>\n",
              "    <tr>\n",
              "      <th>count</th>\n",
              "      <td>28068.000000</td>\n",
              "      <td>30000.000000</td>\n",
              "      <td>30000.000000</td>\n",
              "      <td>30000.000000</td>\n",
              "      <td>30000.000000</td>\n",
              "      <td>4764.000000</td>\n",
              "      <td>30000.000000</td>\n",
              "    </tr>\n",
              "    <tr>\n",
              "      <th>mean</th>\n",
              "      <td>40.648318</td>\n",
              "      <td>1353.218433</td>\n",
              "      <td>15.902567</td>\n",
              "      <td>255.372800</td>\n",
              "      <td>2.837367</td>\n",
              "      <td>230.701931</td>\n",
              "      <td>0.497933</td>\n",
              "    </tr>\n",
              "    <tr>\n",
              "      <th>std</th>\n",
              "      <td>10.135171</td>\n",
              "      <td>2942.336628</td>\n",
              "      <td>8.297476</td>\n",
              "      <td>258.174266</td>\n",
              "      <td>3.228322</td>\n",
              "      <td>108.245232</td>\n",
              "      <td>1.800510</td>\n",
              "    </tr>\n",
              "    <tr>\n",
              "      <th>min</th>\n",
              "      <td>18.000000</td>\n",
              "      <td>-3313.000000</td>\n",
              "      <td>1.000000</td>\n",
              "      <td>0.000000</td>\n",
              "      <td>1.000000</td>\n",
              "      <td>1.000000</td>\n",
              "      <td>0.000000</td>\n",
              "    </tr>\n",
              "    <tr>\n",
              "      <th>25%</th>\n",
              "      <td>33.000000</td>\n",
              "      <td>62.000000</td>\n",
              "      <td>8.000000</td>\n",
              "      <td>101.000000</td>\n",
              "      <td>1.000000</td>\n",
              "      <td>150.000000</td>\n",
              "      <td>0.000000</td>\n",
              "    </tr>\n",
              "    <tr>\n",
              "      <th>50%</th>\n",
              "      <td>39.000000</td>\n",
              "      <td>429.000000</td>\n",
              "      <td>16.000000</td>\n",
              "      <td>177.000000</td>\n",
              "      <td>2.000000</td>\n",
              "      <td>225.000000</td>\n",
              "      <td>0.000000</td>\n",
              "    </tr>\n",
              "    <tr>\n",
              "      <th>75%</th>\n",
              "      <td>48.000000</td>\n",
              "      <td>1412.000000</td>\n",
              "      <td>21.000000</td>\n",
              "      <td>316.000000</td>\n",
              "      <td>3.000000</td>\n",
              "      <td>332.000000</td>\n",
              "      <td>0.000000</td>\n",
              "    </tr>\n",
              "    <tr>\n",
              "      <th>max</th>\n",
              "      <td>89.000000</td>\n",
              "      <td>98417.000000</td>\n",
              "      <td>31.000000</td>\n",
              "      <td>3881.000000</td>\n",
              "      <td>63.000000</td>\n",
              "      <td>792.000000</td>\n",
              "      <td>55.000000</td>\n",
              "    </tr>\n",
              "  </tbody>\n",
              "</table>\n",
              "</div>"
            ],
            "text/plain": [
              "                age       balance  ...        pdays      previous\n",
              "count  28068.000000  30000.000000  ...  4764.000000  30000.000000\n",
              "mean      40.648318   1353.218433  ...   230.701931      0.497933\n",
              "std       10.135171   2942.336628  ...   108.245232      1.800510\n",
              "min       18.000000  -3313.000000  ...     1.000000      0.000000\n",
              "25%       33.000000     62.000000  ...   150.000000      0.000000\n",
              "50%       39.000000    429.000000  ...   225.000000      0.000000\n",
              "75%       48.000000   1412.000000  ...   332.000000      0.000000\n",
              "max       89.000000  98417.000000  ...   792.000000     55.000000\n",
              "\n",
              "[8 rows x 7 columns]"
            ]
          },
          "metadata": {},
          "execution_count": 515
        }
      ]
    },
    {
      "cell_type": "code",
      "metadata": {
        "colab": {
          "base_uri": "https://localhost:8080/"
        },
        "id": "M4Ymw86w2Ygw",
        "outputId": "60c26e4e-515a-42de-a986-1aaffa42b44a"
      },
      "source": [
        "# Get list of categorical variables\n",
        "s = (df_train.dtypes == 'object')\n",
        "object_cols = list(s[s].index)\n",
        "\n",
        "print(\"Categorical variables:\")\n",
        "print(object_cols)\n"
      ],
      "execution_count": null,
      "outputs": [
        {
          "output_type": "stream",
          "name": "stdout",
          "text": [
            "Categorical variables:\n",
            "['job', 'marital', 'education', 'default', 'housing', 'loan', 'contact', 'month', 'poutcome', 'y']\n"
          ]
        }
      ]
    },
    {
      "cell_type": "code",
      "metadata": {
        "colab": {
          "base_uri": "https://localhost:8080/",
          "height": 351
        },
        "id": "HAhtKm451UOB",
        "outputId": "26267e50-7790-4f59-f140-cd24c1034959"
      },
      "source": [
        "plt.figure(figsize=(15, 5))\n",
        "plt.bar(df_train.columns, df_train.isnull().sum().values, color='red')\n",
        "plt.xlabel(\"Columns name\")\n",
        "plt.ylabel(\"Number of missing values in train data\")\n",
        "plt.show()\n",
        "\n",
        "null_sum = df_train.isnull().sum()\n",
        "df_train.columns[null_sum > len(df_train) * 0.1]\n"
      ],
      "execution_count": null,
      "outputs": [
        {
          "output_type": "display_data",
          "data": {
            "image/png": "[encoded data removed]",
            "text/plain": [
              "<Figure size 1080x360 with 1 Axes>"
            ]
          },
          "metadata": {
            "needs_background": "light"
          }
        },
        {
          "output_type": "execute_result",
          "data": {
            "text/plain": [
              "Index(['pdays'], dtype='object')"
            ]
          },
          "metadata": {},
          "execution_count": 517
        }
      ]
    },
    {
      "cell_type": "code",
      "metadata": {
        "colab": {
          "base_uri": "https://localhost:8080/",
          "height": 351
        },
        "id": "iv4oNVJO47HV",
        "outputId": "f588d341-d59e-4c05-ef54-6f6f66a54a9d"
      },
      "source": [
        "sns.countplot('job', hue='y', data=df_train)"
      ],
      "execution_count": null,
      "outputs": [
        {
          "output_type": "stream",
          "name": "stderr",
          "text": [
            "/usr/local/lib/python3.7/dist-packages/seaborn/_decorators.py:43: FutureWarning: Pass the following variable as a keyword arg: x. From version 0.12, the only valid positional argument will be `data`, and passing other arguments without an explicit keyword will result in an error or misinterpretation.\n",
            "  FutureWarning\n"
          ]
        },
        {
          "output_type": "execute_result",
          "data": {
            "text/plain": [
              "<matplotlib.axes._subplots.AxesSubplot at 0x7fec53cd2510>"
            ]
          },
          "metadata": {},
          "execution_count": 518
        },
        {
          "output_type": "display_data",
          "data": {
            "image/png": "[encoded data removed]",
            "text/plain": [
              "<Figure size 432x288 with 1 Axes>"
            ]
          },
          "metadata": {
            "needs_background": "light"
          }
        }
      ]
    },
    {
      "cell_type": "code",
      "metadata": {
        "colab": {
          "base_uri": "https://localhost:8080/",
          "height": 351
        },
        "id": "0PPNcNzd5haz",
        "outputId": "db584b2e-08a5-4e21-f7ca-766d290b8cec"
      },
      "source": [
        "sns.countplot('marital', hue='y', data=df_train)"
      ],
      "execution_count": null,
      "outputs": [
        {
          "output_type": "stream",
          "name": "stderr",
          "text": [
            "/usr/local/lib/python3.7/dist-packages/seaborn/_decorators.py:43: FutureWarning: Pass the following variable as a keyword arg: x. From version 0.12, the only valid positional argument will be `data`, and passing other arguments without an explicit keyword will result in an error or misinterpretation.\n",
            "  FutureWarning\n"
          ]
        },
        {
          "output_type": "execute_result",
          "data": {
            "text/plain": [
              "<matplotlib.axes._subplots.AxesSubplot at 0x7fec54622f90>"
            ]
          },
          "metadata": {},
          "execution_count": 519
        },
        {
          "output_type": "display_data",
          "data": {
            "image/png": "[encoded data removed]",
            "text/plain": [
              "<Figure size 432x288 with 1 Axes>"
            ]
          },
          "metadata": {
            "needs_background": "light"
          }
        }
      ]
    },
    {
      "cell_type": "code",
      "metadata": {
        "colab": {
          "base_uri": "https://localhost:8080/",
          "height": 351
        },
        "id": "fNXP_1-25skc",
        "outputId": "a86d42cb-d5bc-4b26-8df8-96e781f6d250"
      },
      "source": [
        "sns.countplot('education', hue='y', data=df_train)"
      ],
      "execution_count": null,
      "outputs": [
        {
          "output_type": "stream",
          "name": "stderr",
          "text": [
            "/usr/local/lib/python3.7/dist-packages/seaborn/_decorators.py:43: FutureWarning: Pass the following variable as a keyword arg: x. From version 0.12, the only valid positional argument will be `data`, and passing other arguments without an explicit keyword will result in an error or misinterpretation.\n",
            "  FutureWarning\n"
          ]
        },
        {
          "output_type": "execute_result",
          "data": {
            "text/plain": [
              "<matplotlib.axes._subplots.AxesSubplot at 0x7fec538d1110>"
            ]
          },
          "metadata": {},
          "execution_count": 520
        },
        {
          "output_type": "display_data",
          "data": {
            "image/png": "[encoded data removed]",
            "text/plain": [
              "<Figure size 432x288 with 1 Axes>"
            ]
          },
          "metadata": {
            "needs_background": "light"
          }
        }
      ]
    },
    {
      "cell_type": "code",
      "metadata": {
        "colab": {
          "base_uri": "https://localhost:8080/",
          "height": 351
        },
        "id": "ppVZxZGh6HZY",
        "outputId": "8cfa5de4-3b1d-4d8c-aa13-6da37384c699"
      },
      "source": [
        "sns.countplot('default', hue='y', data=df_train)"
      ],
      "execution_count": null,
      "outputs": [
        {
          "output_type": "stream",
          "name": "stderr",
          "text": [
            "/usr/local/lib/python3.7/dist-packages/seaborn/_decorators.py:43: FutureWarning: Pass the following variable as a keyword arg: x. From version 0.12, the only valid positional argument will be `data`, and passing other arguments without an explicit keyword will result in an error or misinterpretation.\n",
            "  FutureWarning\n"
          ]
        },
        {
          "output_type": "execute_result",
          "data": {
            "text/plain": [
              "<matplotlib.axes._subplots.AxesSubplot at 0x7fec54850290>"
            ]
          },
          "metadata": {},
          "execution_count": 521
        },
        {
          "output_type": "display_data",
          "data": {
            "image/png": "[encoded data removed]",
            "text/plain": [
              "<Figure size 432x288 with 1 Axes>"
            ]
          },
          "metadata": {
            "needs_background": "light"
          }
        }
      ]
    },
    {
      "cell_type": "code",
      "metadata": {
        "colab": {
          "base_uri": "https://localhost:8080/",
          "height": 351
        },
        "id": "5JmCZx_b6MC0",
        "outputId": "89ef0576-6538-45e9-b67a-1c3e5f81c555"
      },
      "source": [
        "sns.countplot('housing', hue='y', data=df_train)"
      ],
      "execution_count": null,
      "outputs": [
        {
          "output_type": "stream",
          "name": "stderr",
          "text": [
            "/usr/local/lib/python3.7/dist-packages/seaborn/_decorators.py:43: FutureWarning: Pass the following variable as a keyword arg: x. From version 0.12, the only valid positional argument will be `data`, and passing other arguments without an explicit keyword will result in an error or misinterpretation.\n",
            "  FutureWarning\n"
          ]
        },
        {
          "output_type": "execute_result",
          "data": {
            "text/plain": [
              "<matplotlib.axes._subplots.AxesSubplot at 0x7fec547a6f90>"
            ]
          },
          "metadata": {},
          "execution_count": 522
        },
        {
          "output_type": "display_data",
          "data": {
            "image/png": "[encoded data removed]",
            "text/plain": [
              "<Figure size 432x288 with 1 Axes>"
            ]
          },
          "metadata": {
            "needs_background": "light"
          }
        }
      ]
    },
    {
      "cell_type": "code",
      "metadata": {
        "colab": {
          "base_uri": "https://localhost:8080/",
          "height": 351
        },
        "id": "4ujCPYnw6eba",
        "outputId": "531c41f0-6413-4e13-9675-eb5bd54ec1b3"
      },
      "source": [
        "sns.countplot('loan', hue='y', data=df_train)"
      ],
      "execution_count": null,
      "outputs": [
        {
          "output_type": "stream",
          "name": "stderr",
          "text": [
            "/usr/local/lib/python3.7/dist-packages/seaborn/_decorators.py:43: FutureWarning: Pass the following variable as a keyword arg: x. From version 0.12, the only valid positional argument will be `data`, and passing other arguments without an explicit keyword will result in an error or misinterpretation.\n",
            "  FutureWarning\n"
          ]
        },
        {
          "output_type": "execute_result",
          "data": {
            "text/plain": [
              "<matplotlib.axes._subplots.AxesSubplot at 0x7fec54739e10>"
            ]
          },
          "metadata": {},
          "execution_count": 523
        },
        {
          "output_type": "display_data",
          "data": {
            "image/png": "[encoded data removed]",
            "text/plain": [
              "<Figure size 432x288 with 1 Axes>"
            ]
          },
          "metadata": {
            "needs_background": "light"
          }
        }
      ]
    },
    {
      "cell_type": "code",
      "metadata": {
        "colab": {
          "base_uri": "https://localhost:8080/",
          "height": 351
        },
        "id": "LJQOzSdX6lEa",
        "outputId": "201d1f4e-5e64-4d6f-9598-0b67caed6107"
      },
      "source": [
        "sns.countplot('contact', hue='y', data=df_train)"
      ],
      "execution_count": null,
      "outputs": [
        {
          "output_type": "stream",
          "name": "stderr",
          "text": [
            "/usr/local/lib/python3.7/dist-packages/seaborn/_decorators.py:43: FutureWarning: Pass the following variable as a keyword arg: x. From version 0.12, the only valid positional argument will be `data`, and passing other arguments without an explicit keyword will result in an error or misinterpretation.\n",
            "  FutureWarning\n"
          ]
        },
        {
          "output_type": "execute_result",
          "data": {
            "text/plain": [
              "<matplotlib.axes._subplots.AxesSubplot at 0x7fec54725850>"
            ]
          },
          "metadata": {},
          "execution_count": 524
        },
        {
          "output_type": "display_data",
          "data": {
            "image/png": "[encoded data removed]",
            "text/plain": [
              "<Figure size 432x288 with 1 Axes>"
            ]
          },
          "metadata": {
            "needs_background": "light"
          }
        }
      ]
    },
    {
      "cell_type": "code",
      "metadata": {
        "colab": {
          "base_uri": "https://localhost:8080/",
          "height": 351
        },
        "id": "Dh4_lHoy6vmB",
        "outputId": "ebbb8734-3c65-4850-a51f-d8ae2501a0da"
      },
      "source": [
        "sns.countplot('month', hue='y', data=df_train)"
      ],
      "execution_count": null,
      "outputs": [
        {
          "output_type": "stream",
          "name": "stderr",
          "text": [
            "/usr/local/lib/python3.7/dist-packages/seaborn/_decorators.py:43: FutureWarning: Pass the following variable as a keyword arg: x. From version 0.12, the only valid positional argument will be `data`, and passing other arguments without an explicit keyword will result in an error or misinterpretation.\n",
            "  FutureWarning\n"
          ]
        },
        {
          "output_type": "execute_result",
          "data": {
            "text/plain": [
              "<matplotlib.axes._subplots.AxesSubplot at 0x7fec539b0bd0>"
            ]
          },
          "metadata": {},
          "execution_count": 525
        },
        {
          "output_type": "display_data",
          "data": {
            "image/png": "[encoded data removed]",
            "text/plain": [
              "<Figure size 432x288 with 1 Axes>"
            ]
          },
          "metadata": {
            "needs_background": "light"
          }
        }
      ]
    },
    {
      "cell_type": "code",
      "metadata": {
        "colab": {
          "base_uri": "https://localhost:8080/",
          "height": 351
        },
        "id": "NP6IGjMY6_Cx",
        "outputId": "c8333d36-30e1-40ac-99c7-eb286e803b25"
      },
      "source": [
        "sns.countplot('poutcome', hue='y', data=df_train)"
      ],
      "execution_count": null,
      "outputs": [
        {
          "output_type": "stream",
          "name": "stderr",
          "text": [
            "/usr/local/lib/python3.7/dist-packages/seaborn/_decorators.py:43: FutureWarning: Pass the following variable as a keyword arg: x. From version 0.12, the only valid positional argument will be `data`, and passing other arguments without an explicit keyword will result in an error or misinterpretation.\n",
            "  FutureWarning\n"
          ]
        },
        {
          "output_type": "execute_result",
          "data": {
            "text/plain": [
              "<matplotlib.axes._subplots.AxesSubplot at 0x7fec538e8050>"
            ]
          },
          "metadata": {},
          "execution_count": 526
        },
        {
          "output_type": "display_data",
          "data": {
            "image/png": "[encoded data removed]",
            "text/plain": [
              "<Figure size 432x288 with 1 Axes>"
            ]
          },
          "metadata": {
            "needs_background": "light"
          }
        }
      ]
    },
    {
      "cell_type": "code",
      "metadata": {
        "colab": {
          "base_uri": "https://localhost:8080/",
          "height": 351
        },
        "id": "OFj1WQAw7D2G",
        "outputId": "78088567-46d0-4152-c5d8-fc4303c752d5"
      },
      "source": [
        "sns.countplot('y', data=df_train)\n"
      ],
      "execution_count": null,
      "outputs": [
        {
          "output_type": "stream",
          "name": "stderr",
          "text": [
            "/usr/local/lib/python3.7/dist-packages/seaborn/_decorators.py:43: FutureWarning: Pass the following variable as a keyword arg: x. From version 0.12, the only valid positional argument will be `data`, and passing other arguments without an explicit keyword will result in an error or misinterpretation.\n",
            "  FutureWarning\n"
          ]
        },
        {
          "output_type": "execute_result",
          "data": {
            "text/plain": [
              "<matplotlib.axes._subplots.AxesSubplot at 0x7fec53384250>"
            ]
          },
          "metadata": {},
          "execution_count": 527
        },
        {
          "output_type": "display_data",
          "data": {
            "image/png": "[encoded data removed]",
            "text/plain": [
              "<Figure size 432x288 with 1 Axes>"
            ]
          },
          "metadata": {
            "needs_background": "light"
          }
        }
      ]
    },
    {
      "cell_type": "markdown",
      "metadata": {
        "id": "WtphR-Jvikju"
      },
      "source": [
        "### missing value and categorical value processing"
      ]
    },
    {
      "cell_type": "code",
      "metadata": {
        "id": "lYJoHEXJ_FKq"
      },
      "source": [
        "def fill_missing_value(df_X):\n",
        "\n",
        "  cols_with_missing = [col for col in df_X.columns\n",
        "                      if df_X[col].isnull().any()]\n",
        "  print(\"cols_with_missing: \", cols_with_missing)\n",
        "\n",
        "  # Imputation\n",
        "  imputed_df_X = df_X.fillna(df_X[cols_with_missing].agg(lambda x: pd.Series.mode(x)[0], axis=0))\n",
        "  return imputed_df_X\n",
        "#imputed_df_X.head(5)"
      ],
      "execution_count": null,
      "outputs": []
    },
    {
      "cell_type": "code",
      "metadata": {
        "id": "GRpqVHq0-QA3"
      },
      "source": [
        "# one hot encoding\n",
        "\n",
        "def categorical_process_one_hot(imputed_df_X):\n",
        "  # Apply one-hot encoder to each column with categorical data\n",
        "  # Get list of categorical variables\n",
        "  s = (imputed_df_X.dtypes == 'object')\n",
        "  object_cols = list(s[s].index)\n",
        "  print('Categorical variables:: ', object_cols)\n",
        "\n",
        "  OH_encoder = OneHotEncoder(handle_unknown='error', sparse=False)\n",
        "  OH_cols = pd.DataFrame(OH_encoder.fit_transform(imputed_df_X[object_cols]))\n",
        "\n",
        "  # One-hot encoding removed index; put it back\n",
        "  OH_cols.index = imputed_df_X.index\n",
        "\n",
        "  # Remove categorical columns (will replace with one-hot encoding)\n",
        "  num_X = imputed_df_X.drop(object_cols, axis=1)\n",
        "\n",
        "  # Add one-hot encoded columns to numerical features\n",
        "  OH_X = pd.concat([num_X, OH_cols], axis=1)\n",
        "  return OH_X"
      ],
      "execution_count": null,
      "outputs": []
    },
    {
      "cell_type": "code",
      "metadata": {
        "colab": {
          "base_uri": "https://localhost:8080/",
          "height": 596
        },
        "id": "kY9Hnnh_4vjN",
        "outputId": "5fba7592-ee0e-4f73-c6cd-8fb380473d3a"
      },
      "source": [
        "# Simple correlation Analysis¶\n",
        "_, ax = plt.subplots(figsize=(10,10))\n",
        "columns =  imputed_df_train_X.columns\n",
        "sns.heatmap(imputed_df_train_X[columns].corr(),annot=True,cmap='RdYlGn', ax=ax);\n"
      ],
      "execution_count": null,
      "outputs": [
        {
          "output_type": "display_data",
          "data": {
            "image/png": "[encoded data removed]",
            "text/plain": [
              "<Figure size 720x720 with 2 Axes>"
            ]
          },
          "metadata": {
            "needs_background": "light"
          }
        }
      ]
    },
    {
      "cell_type": "markdown",
      "metadata": {
        "id": "bZ8dibMxh8LP"
      },
      "source": [
        "# Train the model with logistical regression and random forest\n",
        "\n",
        "\n",
        "# Data is imbalanced; use balanced weight to measure the classification\n",
        " f1 socre"
      ]
    },
    {
      "cell_type": "code",
      "metadata": {
        "colab": {
          "base_uri": "https://localhost:8080/"
        },
        "id": "4V42fVwijJgs",
        "outputId": "afef0366-87ac-448c-ef10-c5a9ba2ebd6c"
      },
      "source": [
        "df_train_X = df_train.loc[:, df_train.columns != 'y']\n",
        "df_train_Y = df_train['y']\n",
        "\n",
        "imputed_df_train_X = fill_missing_value(df_train_X)\n",
        "OH_X_train = categorical_process_one_hot(imputed_df_train_X)\n",
        "X_train = OH_X_train\n",
        "le = LabelEncoder()\n",
        "y_train = le.fit_transform(df_train_Y)\n",
        "\n",
        "print(\"X_train: \", X_train.shape)\n",
        "print(\"y_train: \", y_train.shape)\n",
        "\n",
        "#over_sampler = SMOTE(k_neighbors=3)\n",
        "#X_train, y_train = over_sampler.fit_resample(X_train, y_train)\n",
        "\n",
        "rus = RandomUnderSampler(return_indices=True)\n",
        "X_train, y_train, id_rus = rus.fit_sample(X_train, y_train)\n",
        "\n",
        "print(\"X_train: \", X_train.shape)\n",
        "print(\"y_train: \", y_train.shape)"
      ],
      "execution_count": null,
      "outputs": [
        {
          "output_type": "stream",
          "name": "stdout",
          "text": [
            "cols_with_missing:  ['age', 'job', 'marital', 'education', 'loan', 'pdays']\n",
            "Categorical variables::  ['job', 'marital', 'education', 'default', 'housing', 'loan', 'contact', 'month', 'poutcome']\n",
            "X_train:  (30000, 51)\n",
            "y_train:  (30000,)\n",
            "X_train:  (5914, 51)\n",
            "y_train:  (5914,)\n"
          ]
        },
        {
          "output_type": "stream",
          "name": "stderr",
          "text": [
            "/usr/local/lib/python3.7/dist-packages/sklearn/utils/deprecation.py:87: FutureWarning: Function safe_indexing is deprecated; safe_indexing is deprecated in version 0.22 and will be removed in version 0.24.\n",
            "  warnings.warn(msg, category=FutureWarning)\n"
          ]
        }
      ]
    },
    {
      "cell_type": "code",
      "metadata": {
        "id": "hbJVpfVcKrUe"
      },
      "source": [
        "# feature selection\n",
        "#sel_chi2 = SelectKBest(chi2, k=4)    # select 4 features\n",
        "#X_train_chi2 = sel_chi2.fit_transform(X_train, y_train)\n",
        "#print(sel_chi2.get_support())\n"
      ],
      "execution_count": null,
      "outputs": []
    },
    {
      "cell_type": "code",
      "metadata": {
        "id": "98p9DgYRODGC",
        "colab": {
          "base_uri": "https://localhost:8080/"
        },
        "outputId": "b8720471-e6b4-48bd-f7d8-2b802730173e"
      },
      "source": [
        "# logistic regression\n",
        "\n",
        "# scale data\n",
        "scaler = StandardScaler()     # MinMaxScaler, StandardScaler\n",
        "X_scaled_train = scaler.fit_transform(X_train)\n",
        "\n",
        "param_grid = {\n",
        "              'penalty': ['l1', 'l2', 'elasticnet']\n",
        "\t\t\t\t\t\t\t}\n",
        "\n",
        "clf_lr = LogisticRegression(class_weight =None)     # 'balanced' unblanced data\n",
        "grid_clf_lr = GridSearchCV(clf_lr, param_grid, cv=10, scoring='f1')\n",
        "grid_clf_lr.fit(X_scaled_train, y_train)\n",
        "#print(grid_clf. best_params_, grid_clf.cv_results_)\n",
        "\n",
        "print(grid_clf_lr.best_params_) \n",
        "y_train_predicted = grid_clf_lr.predict(X_train) \n",
        "   \n",
        "# print classification report \n",
        "print(classification_report(y_train, y_train_predicted)) \n",
        "\n"
      ],
      "execution_count": null,
      "outputs": [
        {
          "output_type": "stream",
          "name": "stderr",
          "text": [
            "/usr/local/lib/python3.7/dist-packages/sklearn/model_selection/_validation.py:536: FitFailedWarning: Estimator fit failed. The score on this train-test partition for these parameters will be set to nan. Details: \n",
            "ValueError: Solver lbfgs supports only 'l2' or 'none' penalties, got l1 penalty.\n",
            "\n",
            "  FitFailedWarning)\n"
          ]
        },
        {
          "output_type": "stream",
          "name": "stdout",
          "text": [
            "{'penalty': 'l2'}\n",
            "              precision    recall  f1-score   support\n",
            "\n",
            "           0       1.00      0.00      0.01      2957\n",
            "           1       0.50      1.00      0.67      2957\n",
            "\n",
            "    accuracy                           0.50      5914\n",
            "   macro avg       0.75      0.50      0.34      5914\n",
            "weighted avg       0.75      0.50      0.34      5914\n",
            "\n"
          ]
        },
        {
          "output_type": "stream",
          "name": "stderr",
          "text": [
            "/usr/local/lib/python3.7/dist-packages/sklearn/model_selection/_validation.py:536: FitFailedWarning: Estimator fit failed. The score on this train-test partition for these parameters will be set to nan. Details: \n",
            "ValueError: Solver lbfgs supports only 'l2' or 'none' penalties, got elasticnet penalty.\n",
            "\n",
            "  FitFailedWarning)\n"
          ]
        }
      ]
    },
    {
      "cell_type": "code",
      "metadata": {
        "colab": {
          "base_uri": "https://localhost:8080/"
        },
        "id": "u9KymH8dffdK",
        "outputId": "084d2e9e-7ad2-461a-e23c-f7672404627f"
      },
      "source": [
        "# random forest classfication \n",
        "# use-- cross valiation\n",
        "# no need to scale the data\n",
        "param_grid = {\n",
        "              'n_estimators': [10, 15, 20],\n",
        "              'max_depth': [2, 5, 7]\n",
        "             }\n",
        "\n",
        "clf = RandomForestClassifier()\n",
        "grid_clf_rf = GridSearchCV(clf, param_grid, cv=10, scoring='f1')\n",
        "grid_clf_rf.fit(X_train, y_train)\n",
        "#print(grid_clf. best_params_, grid_clf.cv_results_)\n",
        "\n",
        "print(grid_clf_rf.best_params_) \n",
        "y_train_predicted = grid_clf_rf.predict(X_train) \n",
        "   \n",
        "# print classification report \n",
        "print(classification_report(y_train, y_train_predicted)) \n"
      ],
      "execution_count": null,
      "outputs": [
        {
          "output_type": "stream",
          "name": "stdout",
          "text": [
            "{'max_depth': 7, 'n_estimators': 20}\n",
            "              precision    recall  f1-score   support\n",
            "\n",
            "           0       0.89      0.86      0.88      2957\n",
            "           1       0.87      0.90      0.88      2957\n",
            "\n",
            "    accuracy                           0.88      5914\n",
            "   macro avg       0.88      0.88      0.88      5914\n",
            "weighted avg       0.88      0.88      0.88      5914\n",
            "\n"
          ]
        }
      ]
    },
    {
      "cell_type": "markdown",
      "metadata": {
        "id": "NGWIKuq6h13I"
      },
      "source": [
        "### Read test data"
      ]
    },
    {
      "cell_type": "code",
      "metadata": {
        "colab": {
          "base_uri": "https://localhost:8080/"
        },
        "id": "FsUVOi0Xh1C8",
        "outputId": "67dea290-10fa-4a84-a09f-27d6b3804dd8"
      },
      "source": [
        "#test_csv = file_dir + \"test.csv\"\n",
        "df_test = pd.read_csv(test_csv)\n",
        "print(df_test.head(5))\n",
        "print(df_test.shape)"
      ],
      "execution_count": null,
      "outputs": [
        {
          "output_type": "stream",
          "name": "stdout",
          "text": [
            "    age         job  marital  education  ...  pdays  previous poutcome    y\n",
            "0  41.0  management  married   tertiary  ...    NaN         0  unknown   no\n",
            "1  47.0  management   single   tertiary  ...   87.0         1  success  yes\n",
            "2  52.0      admin.  married  secondary  ...    NaN         0  unknown   no\n",
            "3  40.0    services   single  secondary  ...    NaN         0  unknown   no\n",
            "4   NaN    services  married  secondary  ...  404.0         2  success   no\n",
            "\n",
            "[5 rows x 17 columns]\n",
            "(5000, 17)\n"
          ]
        }
      ]
    },
    {
      "cell_type": "code",
      "metadata": {
        "colab": {
          "base_uri": "https://localhost:8080/"
        },
        "id": "6BvZojmljbOy",
        "outputId": "6eb5a796-98b3-489c-911b-b7645691f48c"
      },
      "source": [
        "df_test_X = df_test.loc[:, df_test.columns != 'y']\n",
        "df_test_Y = df_test['y']\n",
        "\n",
        "imputed_df_test_X = fill_missing_value(df_test_X)\n",
        "X_test = categorical_process_one_hot(imputed_df_test_X)\n",
        "le = LabelEncoder()\n",
        "y_test = le.fit_transform(df_test_Y)\n",
        "\n",
        "print(\" X_test, y_test shape: \", X_test.shape, y_test.shape)\n",
        "\n",
        "# predict with logistics regression\n",
        "y_test_predicted = grid_clf_lr.predict(X_test) \n",
        "#print('y_test_predicted: ', y_test_predicted.shape)\n",
        "# print classification report \n",
        "print('Logistics regression test result:', classification_report(y_test, y_test_predicted)) \n",
        "\n",
        "\n",
        "# predict with random forest\n",
        "y_test_predicted = grid_clf_rf.predict(X_test) \n",
        "#rint('y_test_predicted: ', y_test_predicted.shape)\n",
        "# print classification report \n",
        "print('Random forest result:', classification_report(y_test, y_test_predicted)) \n"
      ],
      "execution_count": null,
      "outputs": [
        {
          "output_type": "stream",
          "name": "stdout",
          "text": [
            "cols_with_missing:  ['age', 'job', 'marital', 'education', 'loan', 'pdays']\n",
            "Categorical variables::  ['job', 'marital', 'education', 'default', 'housing', 'loan', 'contact', 'month', 'poutcome']\n",
            " X_test, y_test shape:  (5000, 51) (5000,)\n",
            "Logistics regression test result:               precision    recall  f1-score   support\n",
            "\n",
            "           0       1.00      0.00      0.01      4501\n",
            "           1       0.10      1.00      0.18       499\n",
            "\n",
            "    accuracy                           0.10      5000\n",
            "   macro avg       0.55      0.50      0.10      5000\n",
            "weighted avg       0.91      0.10      0.03      5000\n",
            "\n",
            "Random forest result:               precision    recall  f1-score   support\n",
            "\n",
            "           0       0.98      0.82      0.89      4501\n",
            "           1       0.35      0.88      0.50       499\n",
            "\n",
            "    accuracy                           0.83      5000\n",
            "   macro avg       0.67      0.85      0.70      5000\n",
            "weighted avg       0.92      0.83      0.86      5000\n",
            "\n"
          ]
        }
      ]
    },
    {
      "cell_type": "code",
      "metadata": {
        "id": "e7PEEN_AnmrV",
        "colab": {
          "base_uri": "https://localhost:8080/",
          "height": 314
        },
        "outputId": "64065f87-aec6-4425-bc62-14776419f33f"
      },
      "source": [
        "from sklearn.metrics import roc_curve\n",
        "from sklearn.metrics import roc_auc_score\n",
        "\n",
        "# plot ROC\n",
        "ns_probs = [0 for _ in range(len(y_test))]\n",
        "lr_probs = grid_clf_lr.predict_proba(X_test)\n",
        "\n",
        "lr_probs = lr_probs[:, 1]\n",
        "# calculate scores\n",
        "ns_auc = roc_auc_score(y_test, ns_probs)\n",
        "lr_auc = roc_auc_score(y_test, lr_probs)\n",
        "# summarize scores\n",
        "print('No Info: ROC AUC=%.3f' % (ns_auc))\n",
        "print('Logistic: ROC AUC=%.3f' % (lr_auc))\n",
        "# calculate roc curves\n",
        "ns_fpr, ns_tpr, _ = roc_curve(y_test, ns_probs)\n",
        "lr_fpr, lr_tpr, _ = roc_curve(y_test, lr_probs)\n",
        "# plot the roc curve for the model\n",
        "plt.plot(ns_fpr, ns_tpr, linestyle='--', label='No Info')\n",
        "plt.plot(lr_fpr, lr_tpr, marker='.', label='Logistic')\n",
        "# axis labels\n",
        "plt.xlabel('False Positive Rate')\n",
        "plt.ylabel('True Positive Rate')\n",
        "# show the legend\n",
        "plt.legend()\n",
        "# show the plot\n",
        "plt.show()"
      ],
      "execution_count": null,
      "outputs": [
        {
          "output_type": "stream",
          "name": "stdout",
          "text": [
            "No Info: ROC AUC=0.500\n",
            "Logistic: ROC AUC=0.509\n"
          ]
        },
        {
          "output_type": "display_data",
          "data": {
            "image/png": "[encoded data removed]",
            "text/plain": [
              "<Figure size 432x288 with 1 Axes>"
            ]
          },
          "metadata": {
            "needs_background": "light"
          }
        }
      ]
    }
  ]
}