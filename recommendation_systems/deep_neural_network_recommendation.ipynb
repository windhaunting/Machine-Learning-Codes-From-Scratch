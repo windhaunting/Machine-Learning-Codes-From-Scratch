{
  "nbformat": 4,
  "nbformat_minor": 0,
  "metadata": {
    "colab": {
      "provenance": [],
      "collapsed_sections": []
    },
    "kernelspec": {
      "name": "python3",
      "display_name": "Python 3"
    },
    "language_info": {
      "name": "python"
    }
  },
  "cells": [
    {
      "cell_type": "code",
      "execution_count": 30,
      "metadata": {
        "id": "0L7_quRG3Tc2"
      },
      "outputs": [],
      "source": [
        "from urllib.request import urlretrieve\n",
        "import zipfile\n",
        "import pandas as pd\n",
        "import numpy as np\n",
        "import random\n",
        "import gdown\n",
        "import matplotlib.pyplot as plt\n",
        "\n",
        "import tensorflow as tf\n",
        "from tensorflow.keras.preprocessing.text import one_hot\n",
        "from tensorflow.keras.preprocessing.sequence import pad_sequences\n",
        "from tensorflow.keras.layers import Embedding, Dense, BatchNormalization, ReLU, Concatenate\n",
        "from tensorflow.keras.utils import plot_model"
      ]
    },
    {
      "cell_type": "code",
      "source": [],
      "metadata": {
        "id": "RiMEhhM_7ZB1"
      },
      "execution_count": 30,
      "outputs": []
    },
    {
      "cell_type": "code",
      "source": [
        "\n",
        "def download_read_file_name(file_name, url_raw, users_cols, sep):\n",
        "  url = \"https://drive.google.com/uc?id=\" + url_raw.split('/')[-2]     # Do not change\n",
        "  gdown.download(url, file_name, quiet=False)                          # Name of the file'\n",
        "  df_file = pd.read_csv(file_name, sep=sep, names=users_cols, encoding='latin-1')\n",
        "  return df_file \n",
        "\n",
        "\n",
        "file_user_geo = \"user_geo.csv\"\n",
        "users_cols = ['user_id', 'age', 'sex', 'occupation', 'zip_code']\n",
        "sep = '|'\n",
        "url_raw = \"https://drive.google.com/file/d/1cabEkxQ__WWZj-1wXNf7HMkpsxlLPBet/view?usp=sharing\"\n",
        "df_user_geo = download_read_file_name(file_user_geo, url_raw, users_cols, sep)\n",
        "\n",
        "\n",
        "file_search_hist = \"search_hist.csv\"\n",
        "search_cols = ['user', 'search_hist']\n",
        "sep = '\\t'\n",
        "url_raw = \"https://drive.google.com/file/d/1uaUJwlTdKNVYiB1YjzKaCXHkUJsgm4Yv/view?usp=sharing\"\n",
        "df_search = download_read_file_name(file_search_hist, url_raw, search_cols, sep)\n",
        "\n",
        "\n",
        "file_watch_time = \"watch_time.csv\"\n",
        "watch_cols = ['user_id', 'movie_id', 'watch_hist_time']\n",
        "sep = '\\t'\n",
        "url_raw = \"https://drive.google.com/file/d/1ubtgEnfFsI0osUW37PlBLaK3QRkhAQFp/view?usp=sharing\"\n",
        "df_watch = download_read_file_name(file_watch_time, url_raw, watch_cols, sep)\n",
        "\n",
        "\n",
        "\n",
        "\n",
        "movies_cols = [\"movie_id\", \"title\", \"release_date\", \"video_release_date\", \"imdb_url\",\n",
        "    \"genre_unknown\", \"Action\", \"Adventure\", \"Animation\", \"Children\", \"Comedy\",\n",
        "    \"Crime\", \"Documentary\", \"Drama\", \"Fantasy\", \"Film-Noir\", \"Horror\",\n",
        "    \"Musical\", \"Mystery\", \"Romance\", \"Sci-Fi\", \"Thriller\", \"War\", \"Western\",\n",
        "]\n",
        "\n",
        "file_movie = \"movie.csv\"\n",
        "sep = '|'\n",
        "url_raw = \"https://drive.google.com/file/d/1OTapEkEjHcQFT03UTLL-5qHW48vNZ8r6/view?usp=sharing\"\n",
        "df_movie = download_read_file_name(file_movie, url_raw, movies_cols, sep)\n",
        "\n",
        "\n"
      ],
      "metadata": {
        "id": "rQsLr7Ai4KXF",
        "colab": {
          "base_uri": "https://localhost:8080/"
        },
        "outputId": "4173728a-5336-4b8d-80bd-2ec087e1ebd7"
      },
      "execution_count": 31,
      "outputs": [
        {
          "output_type": "stream",
          "name": "stderr",
          "text": [
            "Downloading...\n",
            "From: https://drive.google.com/uc?id=1cabEkxQ__WWZj-1wXNf7HMkpsxlLPBet\n",
            "To: /content/user_geo.csv\n",
            "100%|██████████| 224/224 [00:00<00:00, 144kB/s]\n",
            "Downloading...\n",
            "From: https://drive.google.com/uc?id=1uaUJwlTdKNVYiB1YjzKaCXHkUJsgm4Yv\n",
            "To: /content/search_hist.csv\n",
            "100%|██████████| 82.0/82.0 [00:00<00:00, 114kB/s]\n",
            "Downloading...\n",
            "From: https://drive.google.com/uc?id=1ubtgEnfFsI0osUW37PlBLaK3QRkhAQFp\n",
            "To: /content/watch_time.csv\n",
            "100%|██████████| 165/165 [00:00<00:00, 294kB/s]\n",
            "Downloading...\n",
            "From: https://drive.google.com/uc?id=1OTapEkEjHcQFT03UTLL-5qHW48vNZ8r6\n",
            "To: /content/movie.csv\n",
            "100%|██████████| 1.30k/1.30k [00:00<00:00, 2.47MB/s]\n"
          ]
        }
      ]
    },
    {
      "cell_type": "code",
      "source": [
        "print(df_search['search_hist'].notnull().sum())"
      ],
      "metadata": {
        "colab": {
          "base_uri": "https://localhost:8080/"
        },
        "id": "NR-Kln83RXoc",
        "outputId": "13eadc0d-5f92-4b0c-f23d-adeac1ddb94f"
      },
      "execution_count": 32,
      "outputs": [
        {
          "output_type": "stream",
          "name": "stdout",
          "text": [
            "6\n"
          ]
        }
      ]
    },
    {
      "cell_type": "code",
      "source": [
        "df_movie.head(5)"
      ],
      "metadata": {
        "colab": {
          "base_uri": "https://localhost:8080/",
          "height": 438
        },
        "id": "QsFziJo6Ih2P",
        "outputId": "8d96b717-d5f4-4c73-e1d9-be95ac9c8b46"
      },
      "execution_count": 33,
      "outputs": [
        {
          "output_type": "execute_result",
          "data": {
            "text/plain": [
              "   movie_id              title release_date  video_release_date  \\\n",
              "0         1   Toy Story (1995)  01-Jan-1995                 NaN   \n",
              "1         2   GoldenEye (2011)  01-Jan-2011                 NaN   \n",
              "2         3  Four Rooms (2020)  01-Jan-2020                 NaN   \n",
              "3         4  Get Shorty (1995)  01-Jan-1995                 NaN   \n",
              "4         5     Copycat (1998)  01-Jan-1998                 NaN   \n",
              "\n",
              "                                            imdb_url  genre_unknown  Action  \\\n",
              "0  http://us.imdb.com/M/title-exact?Toy%20Story%2...              0       0   \n",
              "1  http://us.imdb.com/M/title-exact?GoldenEye%20(...              0       1   \n",
              "2  http://us.imdb.com/M/title-exact?Four%20Rooms%...              0       0   \n",
              "3  http://us.imdb.com/M/title-exact?Get%20Shorty%...              0       1   \n",
              "4  http://us.imdb.com/M/title-exact?Copycat%20(1998)              0       0   \n",
              "\n",
              "   Adventure  Animation  Children  ...  Fantasy  Film-Noir  Horror  Musical  \\\n",
              "0          0          1         1  ...        0          0       0        0   \n",
              "1          1          0         0  ...        0          0       0        0   \n",
              "2          0          0         0  ...        0          0       0        0   \n",
              "3          0          0         0  ...        0          0       0        0   \n",
              "4          0          0         0  ...        0          0       0        0   \n",
              "\n",
              "   Mystery  Romance  Sci-Fi  Thriller  War  Western  \n",
              "0        0        0       0         0    0        0  \n",
              "1        0        0       0         1    0        0  \n",
              "2        0        0       0         1    0        0  \n",
              "3        0        0       0         0    0        0  \n",
              "4        0        0       0         1    0        0  \n",
              "\n",
              "[5 rows x 24 columns]"
            ],
            "text/html": [
              "\n",
              "  <div id=\"df-d4040b84-8412-4856-a3c5-669583d517fc\">\n",
              "    <div class=\"colab-df-container\">\n",
              "      <div>\n",
              "<style scoped>\n",
              "    .dataframe tbody tr th:only-of-type {\n",
              "        vertical-align: middle;\n",
              "    }\n",
              "\n",
              "    .dataframe tbody tr th {\n",
              "        vertical-align: top;\n",
              "    }\n",
              "\n",
              "    .dataframe thead th {\n",
              "        text-align: right;\n",
              "    }\n",
              "</style>\n",
              "<table border=\"1\" class=\"dataframe\">\n",
              "  <thead>\n",
              "    <tr style=\"text-align: right;\">\n",
              "      <th></th>\n",
              "      <th>movie_id</th>\n",
              "      <th>title</th>\n",
              "      <th>release_date</th>\n",
              "      <th>video_release_date</th>\n",
              "      <th>imdb_url</th>\n",
              "      <th>genre_unknown</th>\n",
              "      <th>Action</th>\n",
              "      <th>Adventure</th>\n",
              "      <th>Animation</th>\n",
              "      <th>Children</th>\n",
              "      <th>...</th>\n",
              "      <th>Fantasy</th>\n",
              "      <th>Film-Noir</th>\n",
              "      <th>Horror</th>\n",
              "      <th>Musical</th>\n",
              "      <th>Mystery</th>\n",
              "      <th>Romance</th>\n",
              "      <th>Sci-Fi</th>\n",
              "      <th>Thriller</th>\n",
              "      <th>War</th>\n",
              "      <th>Western</th>\n",
              "    </tr>\n",
              "  </thead>\n",
              "  <tbody>\n",
              "    <tr>\n",
              "      <th>0</th>\n",
              "      <td>1</td>\n",
              "      <td>Toy Story (1995)</td>\n",
              "      <td>01-Jan-1995</td>\n",
              "      <td>NaN</td>\n",
              "      <td>http://us.imdb.com/M/title-exact?Toy%20Story%2...</td>\n",
              "      <td>0</td>\n",
              "      <td>0</td>\n",
              "      <td>0</td>\n",
              "      <td>1</td>\n",
              "      <td>1</td>\n",
              "      <td>...</td>\n",
              "      <td>0</td>\n",
              "      <td>0</td>\n",
              "      <td>0</td>\n",
              "      <td>0</td>\n",
              "      <td>0</td>\n",
              "      <td>0</td>\n",
              "      <td>0</td>\n",
              "      <td>0</td>\n",
              "      <td>0</td>\n",
              "      <td>0</td>\n",
              "    </tr>\n",
              "    <tr>\n",
              "      <th>1</th>\n",
              "      <td>2</td>\n",
              "      <td>GoldenEye (2011)</td>\n",
              "      <td>01-Jan-2011</td>\n",
              "      <td>NaN</td>\n",
              "      <td>http://us.imdb.com/M/title-exact?GoldenEye%20(...</td>\n",
              "      <td>0</td>\n",
              "      <td>1</td>\n",
              "      <td>1</td>\n",
              "      <td>0</td>\n",
              "      <td>0</td>\n",
              "      <td>...</td>\n",
              "      <td>0</td>\n",
              "      <td>0</td>\n",
              "      <td>0</td>\n",
              "      <td>0</td>\n",
              "      <td>0</td>\n",
              "      <td>0</td>\n",
              "      <td>0</td>\n",
              "      <td>1</td>\n",
              "      <td>0</td>\n",
              "      <td>0</td>\n",
              "    </tr>\n",
              "    <tr>\n",
              "      <th>2</th>\n",
              "      <td>3</td>\n",
              "      <td>Four Rooms (2020)</td>\n",
              "      <td>01-Jan-2020</td>\n",
              "      <td>NaN</td>\n",
              "      <td>http://us.imdb.com/M/title-exact?Four%20Rooms%...</td>\n",
              "      <td>0</td>\n",
              "      <td>0</td>\n",
              "      <td>0</td>\n",
              "      <td>0</td>\n",
              "      <td>0</td>\n",
              "      <td>...</td>\n",
              "      <td>0</td>\n",
              "      <td>0</td>\n",
              "      <td>0</td>\n",
              "      <td>0</td>\n",
              "      <td>0</td>\n",
              "      <td>0</td>\n",
              "      <td>0</td>\n",
              "      <td>1</td>\n",
              "      <td>0</td>\n",
              "      <td>0</td>\n",
              "    </tr>\n",
              "    <tr>\n",
              "      <th>3</th>\n",
              "      <td>4</td>\n",
              "      <td>Get Shorty (1995)</td>\n",
              "      <td>01-Jan-1995</td>\n",
              "      <td>NaN</td>\n",
              "      <td>http://us.imdb.com/M/title-exact?Get%20Shorty%...</td>\n",
              "      <td>0</td>\n",
              "      <td>1</td>\n",
              "      <td>0</td>\n",
              "      <td>0</td>\n",
              "      <td>0</td>\n",
              "      <td>...</td>\n",
              "      <td>0</td>\n",
              "      <td>0</td>\n",
              "      <td>0</td>\n",
              "      <td>0</td>\n",
              "      <td>0</td>\n",
              "      <td>0</td>\n",
              "      <td>0</td>\n",
              "      <td>0</td>\n",
              "      <td>0</td>\n",
              "      <td>0</td>\n",
              "    </tr>\n",
              "    <tr>\n",
              "      <th>4</th>\n",
              "      <td>5</td>\n",
              "      <td>Copycat (1998)</td>\n",
              "      <td>01-Jan-1998</td>\n",
              "      <td>NaN</td>\n",
              "      <td>http://us.imdb.com/M/title-exact?Copycat%20(1998)</td>\n",
              "      <td>0</td>\n",
              "      <td>0</td>\n",
              "      <td>0</td>\n",
              "      <td>0</td>\n",
              "      <td>0</td>\n",
              "      <td>...</td>\n",
              "      <td>0</td>\n",
              "      <td>0</td>\n",
              "      <td>0</td>\n",
              "      <td>0</td>\n",
              "      <td>0</td>\n",
              "      <td>0</td>\n",
              "      <td>0</td>\n",
              "      <td>1</td>\n",
              "      <td>0</td>\n",
              "      <td>0</td>\n",
              "    </tr>\n",
              "  </tbody>\n",
              "</table>\n",
              "<p>5 rows × 24 columns</p>\n",
              "</div>\n",
              "      <button class=\"colab-df-convert\" onclick=\"convertToInteractive('df-d4040b84-8412-4856-a3c5-669583d517fc')\"\n",
              "              title=\"Convert this dataframe to an interactive table.\"\n",
              "              style=\"display:none;\">\n",
              "        \n",
              "  <svg xmlns=\"http://www.w3.org/2000/svg\" height=\"24px\"viewBox=\"0 0 24 24\"\n",
              "       width=\"24px\">\n",
              "    <path d=\"M0 0h24v24H0V0z\" fill=\"none\"/>\n",
              "    <path d=\"M18.56 5.44l.94 2.06.94-2.06 2.06-.94-2.06-.94-.94-2.06-.94 2.06-2.06.94zm-11 1L8.5 8.5l.94-2.06 2.06-.94-2.06-.94L8.5 2.5l-.94 2.06-2.06.94zm10 10l.94 2.06.94-2.06 2.06-.94-2.06-.94-.94-2.06-.94 2.06-2.06.94z\"/><path d=\"M17.41 7.96l-1.37-1.37c-.4-.4-.92-.59-1.43-.59-.52 0-1.04.2-1.43.59L10.3 9.45l-7.72 7.72c-.78.78-.78 2.05 0 2.83L4 21.41c.39.39.9.59 1.41.59.51 0 1.02-.2 1.41-.59l7.78-7.78 2.81-2.81c.8-.78.8-2.07 0-2.86zM5.41 20L4 18.59l7.72-7.72 1.47 1.35L5.41 20z\"/>\n",
              "  </svg>\n",
              "      </button>\n",
              "      \n",
              "  <style>\n",
              "    .colab-df-container {\n",
              "      display:flex;\n",
              "      flex-wrap:wrap;\n",
              "      gap: 12px;\n",
              "    }\n",
              "\n",
              "    .colab-df-convert {\n",
              "      background-color: #E8F0FE;\n",
              "      border: none;\n",
              "      border-radius: 50%;\n",
              "      cursor: pointer;\n",
              "      display: none;\n",
              "      fill: #1967D2;\n",
              "      height: 32px;\n",
              "      padding: 0 0 0 0;\n",
              "      width: 32px;\n",
              "    }\n",
              "\n",
              "    .colab-df-convert:hover {\n",
              "      background-color: #E2EBFA;\n",
              "      box-shadow: 0px 1px 2px rgba(60, 64, 67, 0.3), 0px 1px 3px 1px rgba(60, 64, 67, 0.15);\n",
              "      fill: #174EA6;\n",
              "    }\n",
              "\n",
              "    [theme=dark] .colab-df-convert {\n",
              "      background-color: #3B4455;\n",
              "      fill: #D2E3FC;\n",
              "    }\n",
              "\n",
              "    [theme=dark] .colab-df-convert:hover {\n",
              "      background-color: #434B5C;\n",
              "      box-shadow: 0px 1px 3px 1px rgba(0, 0, 0, 0.15);\n",
              "      filter: drop-shadow(0px 1px 2px rgba(0, 0, 0, 0.3));\n",
              "      fill: #FFFFFF;\n",
              "    }\n",
              "  </style>\n",
              "\n",
              "      <script>\n",
              "        const buttonEl =\n",
              "          document.querySelector('#df-d4040b84-8412-4856-a3c5-669583d517fc button.colab-df-convert');\n",
              "        buttonEl.style.display =\n",
              "          google.colab.kernel.accessAllowed ? 'block' : 'none';\n",
              "\n",
              "        async function convertToInteractive(key) {\n",
              "          const element = document.querySelector('#df-d4040b84-8412-4856-a3c5-669583d517fc');\n",
              "          const dataTable =\n",
              "            await google.colab.kernel.invokeFunction('convertToInteractive',\n",
              "                                                     [key], {});\n",
              "          if (!dataTable) return;\n",
              "\n",
              "          const docLinkHtml = 'Like what you see? Visit the ' +\n",
              "            '<a target=\"_blank\" href=https://colab.research.google.com/notebooks/data_table.ipynb>data table notebook</a>'\n",
              "            + ' to learn more about interactive tables.';\n",
              "          element.innerHTML = '';\n",
              "          dataTable['output_type'] = 'display_data';\n",
              "          await google.colab.output.renderOutput(dataTable, element);\n",
              "          const docLink = document.createElement('div');\n",
              "          docLink.innerHTML = docLinkHtml;\n",
              "          element.appendChild(docLink);\n",
              "        }\n",
              "      </script>\n",
              "    </div>\n",
              "  </div>\n",
              "  "
            ]
          },
          "metadata": {},
          "execution_count": 33
        }
      ]
    },
    {
      "cell_type": "code",
      "source": [
        "df_movie[\"year\"] = df_movie['release_date'].apply(lambda x: str(x).split('-')[-1])\n",
        "df_movie['example_age'] = (pd.to_datetime(\"now\") - pd.to_datetime(df_movie['release_date']))\\\n",
        "            /np.timedelta64(1,'D') \n",
        "\n",
        "df_movie.head(5)\n",
        "\n",
        "# normalize\n",
        "def normalize_col(df,col_name):\n",
        "    df[col_name] = (df[col_name] - df[col_name].min()) / (df[col_name].max() - df[col_name].min())\n",
        "    return df\n",
        "\n",
        "df_movie = normalize_col(df_movie,'example_age')\n",
        "df_watch = normalize_col(df_watch,'watch_hist_time')"
      ],
      "metadata": {
        "id": "HpDULQTRIs3p"
      },
      "execution_count": 34,
      "outputs": []
    },
    {
      "cell_type": "code",
      "source": [
        "data_movie_watch = df_watch.merge(df_movie, on='movie_id').merge(df_user_geo, on='user_id')\n",
        "data_movie_watch['user_id']=data_movie_watch['user_id'].astype(int)\n",
        "data_movie_watch['movie_id']=data_movie_watch['movie_id'].astype(int)\n",
        "data_movie_watch = data_movie_watch.set_index(['user_id']).sort_index()\n",
        "data_movie_watch = data_movie_watch.reset_index()\n",
        "data_movie_watch['movie_name']=data_movie_watch['title'].str[:-6]\n",
        "\n",
        "# occupation encoding\n",
        "occupations = data_movie_watch[\"occupation\"].unique().tolist()\n",
        "occupations_encoded = {x: i for i, x in enumerate(occupations)}\n",
        "occupationsencoded2occupations = {i: x for i, x in enumerate(occupations)}\n",
        "\n",
        "user_ids = data_movie_watch[\"user_id\"].unique().tolist()\n",
        "user2user_encoded = {x: i for i, x in enumerate(user_ids)}\n",
        "userencoded2user = {i: x for i, x in enumerate(user_ids)}\n",
        "\n",
        "movie_ids = data_movie_watch[\"movie_id\"].unique().tolist()\n",
        "movie2movie_encoded = {x: i for i, x in enumerate(movie_ids)}\n",
        "movie_encoded2movie = {i: x for i, x in enumerate(movie_ids)}\n",
        "\n",
        "title_ids = data_movie_watch[\"title\"].unique().tolist()\n",
        "title2title_encoded = {x: i for i, x in enumerate(title_ids)}\n",
        "title_encoded2title = {i: x for i, x in enumerate(title_ids)}\n",
        "\n",
        "data_movie_watch[\"user\"] = data_movie_watch[\"user_id\"].map(user2user_encoded)\n",
        "data_movie_watch[\"movie\"] = data_movie_watch[\"movie_id\"].map(movie2movie_encoded)\n",
        "data_movie_watch[\"title_d\"] = data_movie_watch[\"title\"].map(title2title_encoded)\n",
        "data_movie_watch[\"occupation\"] = data_movie_watch[\"occupation\"].map(occupations_encoded)\n",
        "\n",
        "search_hists = df_search[\"search_hist\"].unique().tolist()\n",
        "search_encoded = {x: i for i, x in enumerate(search_hists)}\n",
        "searchencoded2search = {i: x for i, x in enumerate(search_hists)}\n",
        "\n",
        "\n",
        "df_search[\"search_hist\"] = df_search[\"search_hist\"].map(search_encoded)\n",
        "df_search = normalize_col(df_search,'search_hist')\n",
        "\n",
        "\n",
        "watch_hist = data_movie_watch.groupby(['user'])['movie_id', 'watch_hist_time', 'example_age'].agg(list).reset_index()\n",
        "search_hist = df_search.groupby(['user'])['search_hist'].apply(list).reset_index()\n",
        "\n",
        "user_video_list = data_movie_watch.pivot(index='user_id', columns='movie_id', values='movie').reset_index()\n",
        "user_video_list.fillna(data_movie_watch[\"movie_id\"].max()+1, inplace=True)\n",
        "\n",
        "\n",
        "df_user_movie_list = pd.merge(watch_hist,search_hist, how='left')\n",
        "\n",
        "df_user_movie_list['search_hist'] = df_user_movie_list['search_hist'].apply(lambda x: x if type(x) is list else []) # NaN\n",
        "\n",
        "# label the predict future watch or held-out watch\n",
        "df_user_movie_list['predict_labels'] = df_user_movie_list['movie_id'].apply(lambda lst: [int(random.uniform(0, data_movie_watch[\"movie\"].max()))]) #label\n",
        "#df_user_movie_list['predict_labels'] = df_user_movie_list['movie_id'][-1:] #label\n",
        "\n",
        "\n",
        "max_user = df_user_movie_list.user.count()\n",
        "print(\"user_movie_list count: \", max_user)\n",
        "\n",
        "train_user_bound = int(max_user*0.8)\n",
        "\n",
        "train_data = df_user_movie_list[(df_user_movie_list.user >= 1)&\n",
        "                                  (df_user_movie_list.user <= train_user_bound)]\n",
        "test_data = df_user_movie_list[(df_user_movie_list.user > train_user_bound)&\n",
        "                                  (df_user_movie_list.user <= max_user)]\n",
        "#print(\"train_data: \", train_data.head(5))\n",
        "\n",
        "print(\"train_data: \", test_data.head(5))\n"
      ],
      "metadata": {
        "colab": {
          "base_uri": "https://localhost:8080/"
        },
        "id": "QaOrXl7XKZtV",
        "outputId": "07a2dde1-6f7a-41e3-b6fc-80072569c29e"
      },
      "execution_count": 76,
      "outputs": [
        {
          "output_type": "stream",
          "name": "stdout",
          "text": [
            "user_movie_list count:  10\n",
            "train_data:     user movie_id        watch_hist_time example_age search_hist predict_labels\n",
            "9     9      [1]  [0.20069923880332802]       [1.0]          []            [3]\n"
          ]
        },
        {
          "output_type": "stream",
          "name": "stderr",
          "text": [
            "/usr/local/lib/python3.7/dist-packages/ipykernel_launcher.py:39: FutureWarning: Indexing with multiple keys (implicitly converted to a tuple of keys) will be deprecated, use a list instead.\n"
          ]
        }
      ]
    },
    {
      "cell_type": "markdown",
      "source": [
        "# Candidate generation"
      ],
      "metadata": {
        "id": "gqJL0HHEBtAd"
      }
    },
    {
      "cell_type": "code",
      "source": [
        "EMBEDDING_DIMS = 256  #32， 256\n",
        "DENSE_UNITS = 256   # 32， 256\n",
        "DROPOUT_PCT = 0.0\n",
        "ALPHA = 0.0\n",
        "NUM_CLASSES=data_movie_watch[\"movie_id\"].max()+1 # 10 + 1\n",
        "LEARNING_RATE = 0.01\n"
      ],
      "metadata": {
        "id": "eEEVHPn_J--w"
      },
      "execution_count": 78,
      "outputs": []
    },
    {
      "cell_type": "markdown",
      "source": [
        "# Deep Neural Network Model"
      ],
      "metadata": {
        "id": "u5PdF4kKCNVr"
      }
    },
    {
      "cell_type": "code",
      "source": [
        "\n",
        "class MaskedEmbeddingsAggregatorLayer(tf.keras.layers.Layer):\n",
        "    def __init__(self, agg_mode='sum', **kwargs):\n",
        "        super(MaskedEmbeddingsAggregatorLayer, self).__init__(**kwargs)\n",
        "\n",
        "        if agg_mode not in ['sum', 'mean']:\n",
        "            raise NotImplementedError('mode {} not implemented!'.format(agg_mode))\n",
        "        self.agg_mode = agg_mode\n",
        "    \n",
        "    @tf.function\n",
        "    def call(self, inputs, mask=None):\n",
        "        masked_embeddings = tf.ragged.boolean_mask(inputs, mask)\n",
        "        if self.agg_mode == 'sum':\n",
        "            aggregated =  tf.reduce_sum(masked_embeddings, axis=1)\n",
        "        elif self.agg_mode == 'mean':\n",
        "            aggregated = tf.reduce_mean(masked_embeddings, axis=1)\n",
        "        return aggregated\n",
        "    \n",
        "    def get_config(self):\n",
        "        # this is used when loading a saved model that uses a custom layer\n",
        "        return {'agg_mode': self.agg_mode}\n",
        "    \n",
        "class L2NormLayer(tf.keras.layers.Layer):\n",
        "    def __init__(self, **kwargs):\n",
        "        super(L2NormLayer, self).__init__(**kwargs)\n",
        "    \n",
        "    @tf.function\n",
        "    def call(self, inputs, mask=None):\n",
        "        if mask is not None:\n",
        "            inputs = tf.ragged.boolean_mask(inputs, mask).to_tensor()\n",
        "        return tf.math.l2_normalize(inputs, axis=-1)\n",
        "\n",
        "    def compute_mask(self, inputs, mask):\n",
        "        return mask\n",
        "\n",
        "avg_embeddings = MaskedEmbeddingsAggregatorLayer(agg_mode='mean', name='aggregate_embeddings')\n",
        "l2_norm_1 = L2NormLayer(name='l2_norm_1')\n",
        "\n"
      ],
      "metadata": {
        "id": "T2eHcmWPCMHT"
      },
      "execution_count": 79,
      "outputs": []
    },
    {
      "cell_type": "code",
      "source": [
        "def model_candidate_geneartion():\n",
        "    # Input layer\n",
        "    input_watch_hist = tf.keras.Input(shape=(None, ), name='watch_hist')\n",
        "    input_example_age = tf.keras.Input(shape=(None, ), name='example_age')\n",
        "    input_search_list = tf.keras.Input(shape=(None, ), name='search_list')\n",
        "\n",
        "    # Embedding layer \n",
        "    features_embedding_layer=Embedding(input_dim=NUM_CLASSES,output_dim=EMBEDDING_DIMS,mask_zero=True,trainable=True,name='features_embeddings')\n",
        "    features_embeddings = features_embedding_layer(input_watch_hist)\n",
        "    l2_norm_features = l2_norm_1(features_embeddings)\n",
        "    avg_features = avg_embeddings(l2_norm_features)\n",
        "    # avg_features = avg_embeddings(features_embeddings)\n",
        "\n",
        "    age_embedding_layer=Embedding(input_dim=NUM_CLASSES,output_dim=EMBEDDING_DIMS,mask_zero=True,trainable=True,name='example_age_embeddings')\n",
        "    age_example_age_embeddings = age_embedding_layer(input_example_age)\n",
        "    l2_norm_example_age = l2_norm_1(age_example_age_embeddings)\n",
        "    avg_example_age = avg_embeddings(l2_norm_example_age)\n",
        "\n",
        "    search_embedding_layer=Embedding(input_dim=NUM_CLASSES,output_dim=EMBEDDING_DIMS,mask_zero=True,trainable=True,name='search_list_embeddings')\n",
        "    search_embeddings = search_embedding_layer(input_example_age)\n",
        "    l2_norm_search = l2_norm_1(search_embeddings)\n",
        "    avg_search = avg_embeddings(l2_norm_search)\n",
        "\n",
        "\n",
        "    # Combine 2 branches\n",
        "    # concat_inputs = Concatenate(axis=1)([avg_features])\n",
        "    #concat_inputs = Concatenate(axis=1)([avg_features, avg_example_age, avg_search])\n",
        "    concat_inputs = Concatenate(axis=1)([avg_features, avg_example_age])\n",
        "\n",
        "    # Dense layer\n",
        "    dense_1 = Dense(units=DENSE_UNITS*1, name='dense_1')\n",
        "    dense_1_features = dense_1(concat_inputs)\n",
        "    # dense_1_features = dense_1(avg_features)\n",
        "    dense_1_relu = ReLU(name='dense_1_relu')(dense_1_features)\n",
        "    dense_1_batch_norm = BatchNormalization(name='dense_1_batch_norm')(dense_1_relu)\n",
        "\n",
        "    dense_2 = Dense(units=DENSE_UNITS*2, name='dense_2')\n",
        "    dense_2_features = dense_2(dense_1_batch_norm)\n",
        "    dense_2_relu = ReLU(name='dense_2_relu')(dense_2_features)\n",
        "    dense_2_batch_norm = BatchNormalization(name='dense_2_batch_norm')(dense_2_relu)\n",
        "\n",
        "    # Output layer\n",
        "    dense_output = Dense(NUM_CLASSES, activation='softmax', name='dense_output')\n",
        "    # outputs = dense_output(dense_1_batch_norm)\n",
        "    outputs = dense_output(dense_2_batch_norm)\n",
        "\n",
        "    # Model\n",
        "    model = tf.keras.models.Model(\n",
        "            #inputs=[input_watch_hist, input_example_age, input_search_list],\n",
        "            inputs=[input_watch_hist, input_example_age],\n",
        "            outputs=[outputs])\n",
        "\n",
        "    optimiser = tf.keras.optimizers.Adam(learning_rate=LEARNING_RATE)\n",
        "    model.compile(optimizer=optimiser, loss='sparse_categorical_crossentropy', metrics=['acc'])\n",
        "\n",
        "    print(\"Model Summary: \", model.summary())\n",
        "\n",
        "    return model\n",
        "\n",
        "model = model_candidate_geneartion()\n",
        "plot_model(model,rankdir=\"LR\")\n"
      ],
      "metadata": {
        "colab": {
          "base_uri": "https://localhost:8080/",
          "height": 909
        },
        "id": "vIThedw6CpyL",
        "outputId": "71799b37-bf50-4301-cc71-8501e73718b4"
      },
      "execution_count": 80,
      "outputs": [
        {
          "output_type": "stream",
          "name": "stdout",
          "text": [
            "Model: \"model_7\"\n",
            "__________________________________________________________________________________________________\n",
            " Layer (type)                   Output Shape         Param #     Connected to                     \n",
            "==================================================================================================\n",
            " watch_hist (InputLayer)        [(None, None)]       0           []                               \n",
            "                                                                                                  \n",
            " example_age (InputLayer)       [(None, None)]       0           []                               \n",
            "                                                                                                  \n",
            " features_embeddings (Embedding  (None, None, 256)   2816        ['watch_hist[0][0]']             \n",
            " )                                                                                                \n",
            "                                                                                                  \n",
            " example_age_embeddings (Embedd  (None, None, 256)   2816        ['example_age[0][0]']            \n",
            " ing)                                                                                             \n",
            "                                                                                                  \n",
            " l2_norm_1 (L2NormLayer)        (None, None, 256)    0           ['features_embeddings[0][0]',    \n",
            "                                                                  'example_age_embeddings[0][0]'] \n",
            "                                                                                                  \n",
            " aggregate_embeddings (MaskedEm  (None, 256)         0           ['l2_norm_1[0][0]',              \n",
            " beddingsAggregatorLayer)                                         'l2_norm_1[1][0]']              \n",
            "                                                                                                  \n",
            " concatenate_7 (Concatenate)    (None, 512)          0           ['aggregate_embeddings[0][0]',   \n",
            "                                                                  'aggregate_embeddings[1][0]']   \n",
            "                                                                                                  \n",
            " dense_1 (Dense)                (None, 256)          131328      ['concatenate_7[0][0]']          \n",
            "                                                                                                  \n",
            " dense_1_relu (ReLU)            (None, 256)          0           ['dense_1[0][0]']                \n",
            "                                                                                                  \n",
            " dense_1_batch_norm (BatchNorma  (None, 256)         1024        ['dense_1_relu[0][0]']           \n",
            " lization)                                                                                        \n",
            "                                                                                                  \n",
            " dense_2 (Dense)                (None, 512)          131584      ['dense_1_batch_norm[0][0]']     \n",
            "                                                                                                  \n",
            " dense_2_relu (ReLU)            (None, 512)          0           ['dense_2[0][0]']                \n",
            "                                                                                                  \n",
            " dense_2_batch_norm (BatchNorma  (None, 512)         2048        ['dense_2_relu[0][0]']           \n",
            " lization)                                                                                        \n",
            "                                                                                                  \n",
            " dense_output (Dense)           (None, 11)           5643        ['dense_2_batch_norm[0][0]']     \n",
            "                                                                                                  \n",
            "==================================================================================================\n",
            "Total params: 277,259\n",
            "Trainable params: 275,723\n",
            "Non-trainable params: 1,536\n",
            "__________________________________________________________________________________________________\n",
            "Model Summary:  None\n"
          ]
        },
        {
          "output_type": "execute_result",
          "data": {
            "image/png": "[encoded data removed]",
            "text/plain": [
              "<IPython.core.display.Image object>"
            ]
          },
          "metadata": {},
          "execution_count": 80
        }
      ]
    },
    {
      "cell_type": "code",
      "source": [
        "EPOCH = 20\n",
        "history=model.fit([pad_sequences(train_data['watch_hist_time']) + 1e-10,\n",
        "                  pad_sequences(train_data['example_age'],dtype=float) + 1e-10,\n",
        "                  #pad_sequences(train_data['search_hist'],dtype=float)+ 1e-10,\n",
        "                  ],\n",
        "                  pad_sequences(train_data['predict_labels']),\n",
        "                  batch_size=128, \n",
        "                  validation_split=0.1, \n",
        "                  epochs=EPOCH,\n",
        "                  verbose=1)"
      ],
      "metadata": {
        "colab": {
          "base_uri": "https://localhost:8080/"
        },
        "id": "p1b24CkIDdbA",
        "outputId": "4d4ca895-8b07-45a4-c68b-79872f5da419"
      },
      "execution_count": 81,
      "outputs": [
        {
          "output_type": "stream",
          "name": "stdout",
          "text": [
            "Epoch 1/20\n",
            "1/1 [==============================] - 4s 4s/step - loss: 3.0842 - acc: 0.0000e+00 - val_loss: 2.3603 - val_acc: 0.0000e+00\n",
            "Epoch 2/20\n",
            "1/1 [==============================] - 0s 37ms/step - loss: 1.6725 - acc: 0.5714 - val_loss: 2.5974 - val_acc: 0.0000e+00\n",
            "Epoch 3/20\n",
            "1/1 [==============================] - 0s 60ms/step - loss: 1.8145 - acc: 0.2857 - val_loss: 3.0981 - val_acc: 0.0000e+00\n",
            "Epoch 4/20\n",
            "1/1 [==============================] - 0s 40ms/step - loss: 1.2142 - acc: 0.4286 - val_loss: 3.6215 - val_acc: 0.0000e+00\n",
            "Epoch 5/20\n",
            "1/1 [==============================] - 0s 40ms/step - loss: 1.2421 - acc: 0.5714 - val_loss: 4.3436 - val_acc: 0.0000e+00\n",
            "Epoch 6/20\n",
            "1/1 [==============================] - 0s 39ms/step - loss: 1.1487 - acc: 0.5714 - val_loss: 5.1892 - val_acc: 0.0000e+00\n",
            "Epoch 7/20\n",
            "1/1 [==============================] - 0s 35ms/step - loss: 1.0849 - acc: 0.5714 - val_loss: 6.0891 - val_acc: 0.0000e+00\n",
            "Epoch 8/20\n",
            "1/1 [==============================] - 0s 40ms/step - loss: 1.0239 - acc: 0.5714 - val_loss: 6.9822 - val_acc: 0.0000e+00\n",
            "Epoch 9/20\n",
            "1/1 [==============================] - 0s 40ms/step - loss: 0.9817 - acc: 0.5714 - val_loss: 7.7470 - val_acc: 0.0000e+00\n",
            "Epoch 10/20\n",
            "1/1 [==============================] - 0s 36ms/step - loss: 1.0092 - acc: 0.4286 - val_loss: 8.3126 - val_acc: 0.0000e+00\n",
            "Epoch 11/20\n",
            "1/1 [==============================] - 0s 40ms/step - loss: 0.9832 - acc: 0.5714 - val_loss: 8.7334 - val_acc: 0.0000e+00\n",
            "Epoch 12/20\n",
            "1/1 [==============================] - 0s 43ms/step - loss: 0.9714 - acc: 0.5714 - val_loss: 9.1385 - val_acc: 0.0000e+00\n",
            "Epoch 13/20\n",
            "1/1 [==============================] - 0s 36ms/step - loss: 0.9675 - acc: 0.5714 - val_loss: 9.5191 - val_acc: 0.0000e+00\n",
            "Epoch 14/20\n",
            "1/1 [==============================] - 0s 39ms/step - loss: 0.9655 - acc: 0.5714 - val_loss: 9.9262 - val_acc: 0.0000e+00\n",
            "Epoch 15/20\n",
            "1/1 [==============================] - 0s 49ms/step - loss: 0.9669 - acc: 0.5714 - val_loss: 10.3217 - val_acc: 0.0000e+00\n",
            "Epoch 16/20\n",
            "1/1 [==============================] - 0s 37ms/step - loss: 0.9594 - acc: 0.5714 - val_loss: 10.6505 - val_acc: 0.0000e+00\n",
            "Epoch 17/20\n",
            "1/1 [==============================] - 0s 43ms/step - loss: 0.9568 - acc: 0.5714 - val_loss: 10.8868 - val_acc: 0.0000e+00\n",
            "Epoch 18/20\n",
            "1/1 [==============================] - 0s 41ms/step - loss: 0.9592 - acc: 0.5714 - val_loss: 11.0432 - val_acc: 0.0000e+00\n",
            "Epoch 19/20\n",
            "1/1 [==============================] - 0s 38ms/step - loss: 0.9580 - acc: 0.5714 - val_loss: 11.1533 - val_acc: 0.0000e+00\n",
            "Epoch 20/20\n",
            "1/1 [==============================] - 0s 39ms/step - loss: 0.9544 - acc: 0.5714 - val_loss: 11.2432 - val_acc: 0.0000e+00\n"
          ]
        }
      ]
    },
    {
      "cell_type": "code",
      "source": [
        "plt.plot(history.history['acc'], label='accuracy')\n",
        "plt.plot(history.history['val_acc'], label = 'val_accuracy')\n",
        "plt.legend(loc='upper left')\n",
        "plt.ylim(-0.1,1.1)\n",
        "plt.title(f'Recall')"
      ],
      "metadata": {
        "colab": {
          "base_uri": "https://localhost:8080/",
          "height": 299
        },
        "id": "1Pe-goqOWX6S",
        "outputId": "9c13c43d-5d9e-4bd7-dbc3-d3d4ad2ab4af"
      },
      "execution_count": 82,
      "outputs": [
        {
          "output_type": "execute_result",
          "data": {
            "text/plain": [
              "Text(0.5, 1.0, 'Recall')"
            ]
          },
          "metadata": {},
          "execution_count": 82
        },
        {
          "output_type": "display_data",
          "data": {
            "text/plain": [
              "<Figure size 432x288 with 1 Axes>"
            ],
            "image/png": "[encoded data removed]"
          },
          "metadata": {
            "needs_background": "light"
          }
        }
      ]
    },
    {
      "cell_type": "code",
      "source": [
        "plt.plot(history.history['loss'], label='loss')\n",
        "plt.plot(history.history['val_loss'], label = 'val_loss')\n",
        "plt.legend(loc='upper left')\n",
        "# plt.title(f'Epochs={EPOCH}')\n",
        "plt.ylim(-0.1,25)\n",
        "plt.title(f'Recall')"
      ],
      "metadata": {
        "colab": {
          "base_uri": "https://localhost:8080/",
          "height": 299
        },
        "id": "5-NuHSSdWgxs",
        "outputId": "dfdfa020-91c4-4129-e856-221d600e7da7"
      },
      "execution_count": 83,
      "outputs": [
        {
          "output_type": "execute_result",
          "data": {
            "text/plain": [
              "Text(0.5, 1.0, 'Recall')"
            ]
          },
          "metadata": {},
          "execution_count": 83
        },
        {
          "output_type": "display_data",
          "data": {
            "text/plain": [
              "<Figure size 432x288 with 1 Axes>"
            ],
            "image/png": "[encoded data removed]"
          },
          "metadata": {
            "needs_background": "light"
          }
        }
      ]
    },
    {
      "cell_type": "code",
      "source": [
        "pred = model.predict([pad_sequences(test_data['watch_hist_time'])+ 1e-10,\n",
        "                      pad_sequences(test_data['example_age'],dtype=float)+ 1e-10,\n",
        "                      ])\n",
        "pred.shape # (2， 11)"
      ],
      "metadata": {
        "colab": {
          "base_uri": "https://localhost:8080/"
        },
        "id": "4508lof1WjcI",
        "outputId": "7179ec71-41d9-4c28-9db5-711c4a7737cc"
      },
      "execution_count": 84,
      "outputs": [
        {
          "output_type": "stream",
          "name": "stderr",
          "text": [
            "WARNING:tensorflow:6 out of the last 6 calls to <function Model.make_predict_function.<locals>.predict_function at 0x7f7222c54200> triggered tf.function retracing. Tracing is expensive and the excessive number of tracings could be due to (1) creating @tf.function repeatedly in a loop, (2) passing tensors with different shapes, (3) passing Python objects instead of tensors. For (1), please define your @tf.function outside of the loop. For (2), @tf.function has reduce_retracing=True option that can avoid unnecessary retracing. For (3), please refer to https://www.tensorflow.org/guide/function#controlling_retracing and https://www.tensorflow.org/api_docs/python/tf/function for  more details.\n"
          ]
        },
        {
          "output_type": "stream",
          "name": "stdout",
          "text": [
            "1/1 [==============================] - 0s 240ms/step\n"
          ]
        },
        {
          "output_type": "execute_result",
          "data": {
            "text/plain": [
              "(1, 11)"
            ]
          },
          "metadata": {},
          "execution_count": 84
        }
      ]
    },
    {
      "cell_type": "code",
      "source": [
        "N = 10\n",
        "k_lst = (pred).argsort()[:,:N][0]\n",
        "result=df_movie[[\"movie_id\",\"title\"]]\n",
        "result = result.set_index(['movie_id']).sort_index()\n",
        "print(\"result: \", result)\n",
        "print(\"top \" + str(N) + \" Recommend:\")"
      ],
      "metadata": {
        "colab": {
          "base_uri": "https://localhost:8080/"
        },
        "id": "2K6NUkoZW9VH",
        "outputId": "e9294d9a-1134-4fb6-d1f7-98d601d8b45e"
      },
      "execution_count": 89,
      "outputs": [
        {
          "output_type": "stream",
          "name": "stdout",
          "text": [
            "result:                                                        title\n",
            "movie_id                                                   \n",
            "1                                          Toy Story (1995)\n",
            "2                                          GoldenEye (2011)\n",
            "3                                         Four Rooms (2020)\n",
            "4                                         Get Shorty (1995)\n",
            "5                                            Copycat (1998)\n",
            "6         Shanghai Triad (Yao a yao yao dao waipo qiao) ...\n",
            "7                                     Twelve Monkeys (2018)\n",
            "8                                               Babe (1995)\n",
            "9                                   Dead Man Walking (1995)\n",
            "10                                       Richard III (1995)\n",
            "top 10 Recommend:\n"
          ]
        }
      ]
    }
  ]
}